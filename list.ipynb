{
 "cells": [
  {
   "cell_type": "code",
   "execution_count": 1,
   "id": "ec03c119",
   "metadata": {},
   "outputs": [
    {
     "name": "stdout",
     "output_type": "stream",
     "text": [
      "['apple', 'banana', 'cherry']\n"
     ]
    }
   ],
   "source": [
    "list = ['apple','banana','cherry']\n",
    "print(list)"
   ]
  },
  {
   "cell_type": "code",
   "execution_count": 36,
   "id": "72d1f54e",
   "metadata": {},
   "outputs": [
    {
     "name": "stdout",
     "output_type": "stream",
     "text": [
      "3\n"
     ]
    }
   ],
   "source": [
    "list = ['apple','banana','cherry']\n",
    "print(len(list))"
   ]
  },
  {
   "cell_type": "code",
   "execution_count": 33,
   "id": "04667d0d",
   "metadata": {},
   "outputs": [
    {
     "name": "stdout",
     "output_type": "stream",
     "text": [
      "banana\n"
     ]
    }
   ],
   "source": [
    "list = ['apple','banana','cherry']\n",
    "print(list[1])"
   ]
  },
  {
   "cell_type": "code",
   "execution_count": 5,
   "id": "c97403b8",
   "metadata": {},
   "outputs": [
    {
     "name": "stdout",
     "output_type": "stream",
     "text": [
      "['banana', 'cherry']\n"
     ]
    }
   ],
   "source": [
    "list = ['apple','banana','cherry']\n",
    "print(list[1:])"
   ]
  },
  {
   "cell_type": "code",
   "execution_count": 6,
   "id": "2659d717",
   "metadata": {},
   "outputs": [
    {
     "name": "stdout",
     "output_type": "stream",
     "text": [
      "['apple', 'mango', 'cherry']\n"
     ]
    }
   ],
   "source": [
    "list = ['apple','banana','cherry']\n",
    "list[1] = 'mango'\n",
    "print(list)"
   ]
  },
  {
   "cell_type": "code",
   "execution_count": 37,
   "id": "9434b847",
   "metadata": {},
   "outputs": [
    {
     "name": "stdout",
     "output_type": "stream",
     "text": [
      "['apple', 'mango', 'pineapple', 'cherry']\n"
     ]
    }
   ],
   "source": [
    "list = ['apple','banana','cherry']\n",
    "list[1:2] = ['mango','pineapple']\n",
    "print(list)"
   ]
  },
  {
   "cell_type": "code",
   "execution_count": 38,
   "id": "3ccf8fb7",
   "metadata": {},
   "outputs": [
    {
     "name": "stdout",
     "output_type": "stream",
     "text": [
      "['apple', 'mango', 'pineapple']\n"
     ]
    }
   ],
   "source": [
    "list = ['apple','banana','cherry']\n",
    "list[1:] = ['mango','pineapple']\n",
    "print(list)"
   ]
  },
  {
   "cell_type": "code",
   "execution_count": 26,
   "id": "50305f9c",
   "metadata": {},
   "outputs": [
    {
     "name": "stdout",
     "output_type": "stream",
     "text": [
      "['apple', 'banana', 'mango', 'cherry']\n"
     ]
    }
   ],
   "source": [
    "list = ['apple','banana','cherry']\n",
    "list.insert(2, 'mango')\n",
    "print(list)"
   ]
  },
  {
   "cell_type": "code",
   "execution_count": 3,
   "id": "ee63d76f",
   "metadata": {},
   "outputs": [
    {
     "name": "stdout",
     "output_type": "stream",
     "text": [
      "['apple', 'banana', 'cherry', ['mango', 'hgfg', 'lkjhgf']]\n"
     ]
    }
   ],
   "source": [
    "list = ['apple','banana','cherry']\n",
    "list.append(['mango','hgfg','lkjhgf'])\n",
    "print(list)"
   ]
  },
  {
   "cell_type": "code",
   "execution_count": 39,
   "id": "6001daab",
   "metadata": {},
   "outputs": [
    {
     "name": "stdout",
     "output_type": "stream",
     "text": [
      "['apple', 'banana', 'cherry', 'mango', 'pineapple', 'guava']\n"
     ]
    }
   ],
   "source": [
    "list = ['apple','banana','cherry']\n",
    "list.extend(['mango','pineapple','guava'])\n",
    "print(list)"
   ]
  },
  {
   "cell_type": "code",
   "execution_count": 34,
   "id": "616b8f70",
   "metadata": {},
   "outputs": [
    {
     "name": "stdout",
     "output_type": "stream",
     "text": [
      "['pineapple', 'mango', 'guava', 'cherry', 'banana', 'apple']\n"
     ]
    }
   ],
   "source": [
    "list = ['cherry','banana','apple']\n",
    "list.extend(['mango','pineapple','guava'])\n",
    "list.sort(reverse = True)\n",
    "print(list)"
   ]
  },
  {
   "cell_type": "code",
   "execution_count": 2,
   "id": "f69cd025",
   "metadata": {},
   "outputs": [
    {
     "name": "stdout",
     "output_type": "stream",
     "text": [
      "['cherry', 'apple', 'mango', 'pineapple', 'guava']\n"
     ]
    }
   ],
   "source": [
    "list = ['cherry','banana','apple']\n",
    "list.extend(['mango','pineapple','guava'])\n",
    "list.remove('banana')\n",
    "print(list)"
   ]
  },
  {
   "cell_type": "code",
   "execution_count": 28,
   "id": "b69bd816",
   "metadata": {},
   "outputs": [
    {
     "name": "stdout",
     "output_type": "stream",
     "text": [
      "['cherry', 'banana', 'mango', 'pineapple', 'guava']\n"
     ]
    }
   ],
   "source": [
    "list = ['cherry','banana','apple']\n",
    "list.extend(['mango','pineapple','guava'])\n",
    "list.pop(2)\n",
    "print(list)"
   ]
  },
  {
   "cell_type": "code",
   "execution_count": 35,
   "id": "679c73db",
   "metadata": {},
   "outputs": [
    {
     "name": "stdout",
     "output_type": "stream",
     "text": [
      "cherry\n",
      "banana\n",
      "apple\n",
      "mango\n",
      "pineapple\n",
      "guava\n",
      "kiwi\n"
     ]
    }
   ],
   "source": [
    "list = ['cherry','banana','apple','mango','pineapple','guava','kiwi']\n",
    "for i in list:\n",
    "    print(i)"
   ]
  },
  {
   "cell_type": "code",
   "execution_count": 32,
   "id": "69f2beff",
   "metadata": {},
   "outputs": [
    {
     "name": "stdout",
     "output_type": "stream",
     "text": [
      "['cherry', 'banana', 'apple', 'mango', 'pineapple', 'guava', 'kiwi']\n",
      "['apple', 'banana', 'cherry', 'guava', 'kiwi', 'mango', 'pineapple']\n"
     ]
    }
   ],
   "source": [
    "list = ['cherry','banana','apple','mango','pineapple','guava','kiwi']\n",
    "list2 = list.copy()\n",
    "list2.sort()\n",
    "print(list)\n",
    "print(list2)"
   ]
  },
  {
   "cell_type": "code",
   "execution_count": 10,
   "id": "149e00a2",
   "metadata": {},
   "outputs": [
    {
     "name": "stdout",
     "output_type": "stream",
     "text": [
      "['cherry', 'banana', 'apple', 'mango', 'pineapple', 'guava', 'kiwi']\n",
      "['cherry', 'banana', 'apple', 'mango', 'pineapple', 'guava', 'kiwi', 1]\n"
     ]
    }
   ],
   "source": [
    "lis = ['cherry','banana','apple','mango','pineapple','guava','kiwi']\n",
    "b=lis[::]\n",
    "lis.append(1)\n",
    "print(b)\n",
    "print(lis)"
   ]
  },
  {
   "cell_type": "code",
   "execution_count": 15,
   "id": "34feee7c",
   "metadata": {},
   "outputs": [
    {
     "name": "stdout",
     "output_type": "stream",
     "text": [
      "['10', '15', '2', '5', 'Kiwi', 'Pineapple', 'apple', 'banana', 'cherry', 'guava', 'mango']\n"
     ]
    }
   ],
   "source": [
    "lis = ['cherry', '15' ,'banana','apple',  '2' , '5' ,'mango','Pineapple', '10' ,'guava','Kiwi']\n",
    "lis.sort()\n",
    "print(lis)"
   ]
  },
  {
   "cell_type": "code",
   "execution_count": 17,
   "id": "f6c4bbbf",
   "metadata": {},
   "outputs": [
    {
     "name": "stdout",
     "output_type": "stream",
     "text": [
      "['78', '511', '5', '45', '2']\n"
     ]
    }
   ],
   "source": [
    "num = ['2', '45', '5','511', '78']\n",
    "num.sort(reverse = True)\n",
    "print(num)"
   ]
  },
  {
   "cell_type": "code",
   "execution_count": null,
   "id": "332f0f67",
   "metadata": {},
   "outputs": [],
   "source": []
  }
 ],
 "metadata": {
  "kernelspec": {
   "display_name": "Python 3 (ipykernel)",
   "language": "python",
   "name": "python3"
  },
  "language_info": {
   "codemirror_mode": {
    "name": "ipython",
    "version": 3
   },
   "file_extension": ".py",
   "mimetype": "text/x-python",
   "name": "python",
   "nbconvert_exporter": "python",
   "pygments_lexer": "ipython3",
   "version": "3.11.0"
  }
 },
 "nbformat": 4,
 "nbformat_minor": 5
}

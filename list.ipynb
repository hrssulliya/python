{
 "cells": [
  {
   "cell_type": "code",
   "execution_count": 1,
   "id": "ec03c119",
   "metadata": {},
   "outputs": [
    {
     "name": "stdout",
     "output_type": "stream",
     "text": [
      "['apple', 'banana', 'cherry']\n"
     ]
    }
   ],
   "source": [
    "list = ['apple','banana','cherry']\n",
    "print(list)"
   ]
  },
  {
   "cell_type": "code",
   "execution_count": 36,
   "id": "72d1f54e",
   "metadata": {},
   "outputs": [
    {
     "name": "stdout",
     "output_type": "stream",
     "text": [
      "3\n"
     ]
    }
   ],
   "source": [
    "list = ['apple','banana','cherry']\n",
    "print(len(list))"
   ]
  },
  {
   "cell_type": "code",
   "execution_count": 33,
   "id": "04667d0d",
   "metadata": {},
   "outputs": [
    {
     "name": "stdout",
     "output_type": "stream",
     "text": [
      "banana\n"
     ]
    }
   ],
   "source": [
    "list = ['apple','banana','cherry']\n",
    "print(list[1])"
   ]
  },
  {
   "cell_type": "code",
   "execution_count": 5,
   "id": "c97403b8",
   "metadata": {},
   "outputs": [
    {
     "name": "stdout",
     "output_type": "stream",
     "text": [
      "['banana', 'cherry']\n"
     ]
    }
   ],
   "source": [
    "list = ['apple','banana','cherry']\n",
    "print(list[1:])"
   ]
  },
  {
   "cell_type": "code",
   "execution_count": 6,
   "id": "2659d717",
   "metadata": {},
   "outputs": [
    {
     "name": "stdout",
     "output_type": "stream",
     "text": [
      "['apple', 'mango', 'cherry']\n"
     ]
    }
   ],
   "source": [
    "list = ['apple','banana','cherry']\n",
    "list[1] = 'mango'\n",
    "print(list)"
   ]
  },
  {
   "cell_type": "code",
   "execution_count": 37,
   "id": "9434b847",
   "metadata": {},
   "outputs": [
    {
     "name": "stdout",
     "output_type": "stream",
     "text": [
      "['apple', 'mango', 'pineapple', 'cherry']\n"
     ]
    }
   ],
   "source": [
    "list = ['apple','banana','cherry']\n",
    "list[1:2] = ['mango','pineapple']\n",
    "print(list)"
   ]
  },
  {
   "cell_type": "code",
   "execution_count": 38,
   "id": "3ccf8fb7",
   "metadata": {},
   "outputs": [
    {
     "name": "stdout",
     "output_type": "stream",
     "text": [
      "['apple', 'mango', 'pineapple']\n"
     ]
    }
   ],
   "source": [
    "list = ['apple','banana','cherry']\n",
    "list[1:] = ['mango','pineapple']\n",
    "print(list)"
   ]
  },
  {
   "cell_type": "code",
   "execution_count": 26,
   "id": "50305f9c",
   "metadata": {},
   "outputs": [
    {
     "name": "stdout",
     "output_type": "stream",
     "text": [
      "['apple', 'banana', 'mango', 'cherry']\n"
     ]
    }
   ],
   "source": [
    "list = ['apple','banana','cherry']\n",
    "list.insert(2, 'mango')\n",
    "print(list)"
   ]
  },
  {
   "cell_type": "code",
   "execution_count": 3,
   "id": "ee63d76f",
   "metadata": {},
   "outputs": [
    {
     "name": "stdout",
     "output_type": "stream",
     "text": [
      "['apple', 'banana', 'cherry', ['mango', 'hgfg', 'lkjhgf']]\n"
     ]
    }
   ],
   "source": [
    "list = ['apple','banana','cherry']\n",
    "list.append(['mango','hgfg','lkjhgf'])\n",
    "print(list)"
   ]
  },
  {
   "cell_type": "code",
   "execution_count": 39,
   "id": "6001daab",
   "metadata": {},
   "outputs": [
    {
     "name": "stdout",
     "output_type": "stream",
     "text": [
      "['apple', 'banana', 'cherry', 'mango', 'pineapple', 'guava']\n"
     ]
    }
   ],
   "source": [
    "list = ['apple','banana','cherry']\n",
    "list.extend(['mango','pineapple','guava'])\n",
    "print(list)"
   ]
  },
  {
   "cell_type": "code",
   "execution_count": 34,
   "id": "616b8f70",
   "metadata": {},
   "outputs": [
    {
     "name": "stdout",
     "output_type": "stream",
     "text": [
      "['pineapple', 'mango', 'guava', 'cherry', 'banana', 'apple']\n"
     ]
    }
   ],
   "source": [
    "list = ['cherry','banana','apple']\n",
    "list.extend(['mango','pineapple','guava'])\n",
    "list.sort(reverse = True)\n",
    "print(list)"
   ]
  },
  {
   "cell_type": "code",
   "execution_count": 2,
   "id": "f69cd025",
   "metadata": {},
   "outputs": [
    {
     "name": "stdout",
     "output_type": "stream",
     "text": [
      "['cherry', 'apple', 'mango', 'pineapple', 'guava']\n"
     ]
    }
   ],
   "source": [
    "list = ['cherry','banana','apple']\n",
    "list.extend(['mango','pineapple','guava'])\n",
    "list.remove('banana')\n",
    "print(list)"
   ]
  },
  {
   "cell_type": "code",
   "execution_count": 28,
   "id": "b69bd816",
   "metadata": {},
   "outputs": [
    {
     "name": "stdout",
     "output_type": "stream",
     "text": [
      "['cherry', 'banana', 'mango', 'pineapple', 'guava']\n"
     ]
    }
   ],
   "source": [
    "list = ['cherry','banana','apple']\n",
    "list.extend(['mango','pineapple','guava'])\n",
    "list.pop(2)\n",
    "print(list)"
   ]
  },
  {
   "cell_type": "code",
   "execution_count": 35,
   "id": "679c73db",
   "metadata": {},
   "outputs": [
    {
     "name": "stdout",
     "output_type": "stream",
     "text": [
      "cherry\n",
      "banana\n",
      "apple\n",
      "mango\n",
      "pineapple\n",
      "guava\n",
      "kiwi\n"
     ]
    }
   ],
   "source": [
    "list = ['cherry','banana','apple','mango','pineapple','guava','kiwi']\n",
    "for i in list:\n",
    "    print(i)"
   ]
  },
  {
   "cell_type": "code",
   "execution_count": 32,
   "id": "69f2beff",
   "metadata": {},
   "outputs": [
    {
     "name": "stdout",
     "output_type": "stream",
     "text": [
      "['cherry', 'banana', 'apple', 'mango', 'pineapple', 'guava', 'kiwi']\n",
      "['apple', 'banana', 'cherry', 'guava', 'kiwi', 'mango', 'pineapple']\n"
     ]
    }
   ],
   "source": [
    "list = ['cherry','banana','apple','mango','pineapple','guava','kiwi']\n",
    "list2 = list.copy()\n",
    "list2.sort()\n",
    "print(list)\n",
    "print(list2)"
   ]
  },
  {
   "cell_type": "code",
   "execution_count": 10,
   "id": "149e00a2",
   "metadata": {},
   "outputs": [
    {
     "name": "stdout",
     "output_type": "stream",
     "text": [
      "['cherry', 'banana', 'apple', 'mango', 'pineapple', 'guava', 'kiwi']\n",
      "['cherry', 'banana', 'apple', 'mango', 'pineapple', 'guava', 'kiwi', 1]\n"
     ]
    }
   ],
   "source": [
    "lis = ['cherry','banana','apple','mango','pineapple','guava','kiwi']\n",
    "b=lis[::]\n",
    "lis.append(1)\n",
    "print(b)\n",
    "print(lis)"
   ]
  },
  {
   "cell_type": "code",
   "execution_count": 15,
   "id": "34feee7c",
   "metadata": {},
   "outputs": [
    {
     "name": "stdout",
     "output_type": "stream",
     "text": [
      "['10', '15', '2', '5', 'Kiwi', 'Pineapple', 'apple', 'banana', 'cherry', 'guava', 'mango']\n"
     ]
    }
   ],
   "source": [
    "lis = ['cherry', '15' ,'banana','apple',  '2' , '5' ,'mango','Pineapple', '10' ,'guava','Kiwi']\n",
    "lis.sort()\n",
    "print(lis)"
   ]
  },
  {
   "cell_type": "code",
   "execution_count": 17,
   "id": "f6c4bbbf",
   "metadata": {},
   "outputs": [
    {
     "name": "stdout",
     "output_type": "stream",
     "text": [
      "['78', '511', '5', '45', '2']\n"
     ]
    }
   ],
   "source": [
    "num = ['2', '45', '5','511', '78']\n",
    "num.sort(reverse = True)\n",
    "print(num)"
   ]
  },
  {
   "cell_type": "code",
   "execution_count": 14,
   "id": "332f0f67",
   "metadata": {},
   "outputs": [
    {
     "name": "stdout",
     "output_type": "stream",
     "text": [
      "[2, 8, 4, 5, 6]\n"
     ]
    }
   ],
   "source": [
    "list = [2,3,4,5,6]\n",
    "\n",
    "list[1]= 8\n",
    "print(list)"
   ]
  },
  {
   "cell_type": "code",
   "execution_count": 59,
   "id": "4b17df8a",
   "metadata": {},
   "outputs": [
    {
     "name": "stdout",
     "output_type": "stream",
     "text": [
      "2576145300784\n",
      "sadique\n",
      "2576151010544\n"
     ]
    }
   ],
   "source": [
    "a = 'sadique'\n",
    "b=a.replace('a','b')\n",
    "print(id(a))\n",
    "print(a)\n",
    "print(id(b))"
   ]
  },
  {
   "cell_type": "code",
   "execution_count": 5,
   "id": "035026b5",
   "metadata": {},
   "outputs": [
    {
     "name": "stdout",
     "output_type": "stream",
     "text": [
      "7 is a largest Number\n"
     ]
    }
   ],
   "source": [
    "list = [2,3,7,5,6]\n",
    "\n",
    "list.sort()\n",
    "print(list[-1], 'is a largest Number')"
   ]
  },
  {
   "cell_type": "code",
   "execution_count": 56,
   "id": "3b48f62e",
   "metadata": {},
   "outputs": [
    {
     "name": "stdout",
     "output_type": "stream",
     "text": [
      "The larges number : 457\n",
      "The second larges number : 330\n"
     ]
    }
   ],
   "source": [
    "lis = [2,330,457,55,8]\n",
    "\n",
    "larg = lis[0]\n",
    "larg2 = lis[0]\n",
    "\n",
    "for i in lis:\n",
    "    if i > larg:\n",
    "        larg = i\n",
    "        \n",
    "for x in lis:\n",
    "    if x > larg2 and x < larg:\n",
    "        larg2 = x\n",
    "        \n",
    "print('The larges number :',larg)\n",
    "print('The second larges number :',larg2)"
   ]
  },
  {
   "cell_type": "code",
   "execution_count": 1,
   "id": "d62ffa05",
   "metadata": {},
   "outputs": [
    {
     "data": {
      "text/plain": [
       "23"
      ]
     },
     "execution_count": 1,
     "metadata": {},
     "output_type": "execute_result"
    }
   ],
   "source": [
    "list = [2,3,7,5,6]\n",
    "sum(x for x in list)"
   ]
  },
  {
   "cell_type": "code",
   "execution_count": 2,
   "id": "6e8809db",
   "metadata": {},
   "outputs": [
    {
     "name": "stdout",
     "output_type": "stream",
     "text": [
      "{'Ilyas': '18', 'Imran': '45', 'Yakub': '56', 'Mohammad': '20', 'Haris': '23'}\n"
     ]
    }
   ],
   "source": [
    "age = ['18','45','56','20','23']\n",
    "names = ['Ilyas','Imran','Yakub','Mohammad','Haris']\n",
    "dict = {}\n",
    "x = 0 \n",
    "for eachname in names:\n",
    "    dict[eachname]=age[x]      # eachname in names store as key and age as values\n",
    "    x+=1\n",
    "print(dict)"
   ]
  },
  {
   "cell_type": "code",
   "execution_count": 5,
   "id": "8656223e",
   "metadata": {},
   "outputs": [
    {
     "name": "stdout",
     "output_type": "stream",
     "text": [
      "[3, 2, 5, 7, 6]\n"
     ]
    }
   ],
   "source": [
    "my_list = [2,3,7,5,6]\n",
    "\n",
    "for i in range(0,len(my_list)-1,2):\n",
    "    my_list[i], my_list[i+1] = my_list[i+1] , my_list[i]\n",
    "    \n",
    "print(my_list)"
   ]
  },
  {
   "cell_type": "code",
   "execution_count": 11,
   "id": "179c3001",
   "metadata": {},
   "outputs": [
    {
     "name": "stdout",
     "output_type": "stream",
     "text": [
      "[17]\n"
     ]
    }
   ],
   "source": [
    "# find the leader\n",
    "\n",
    "list_num = [16,17,4,3,5,2]\n",
    "ind = 0\n",
    "num = list_num[ind]\n",
    "res_list = []\n",
    "\n",
    "for item in list_num:\n",
    "    if item > num:\n",
    "        res_list.append(item)\n",
    "        num = item\n",
    "    else:\n",
    "        continue\n",
    "print(res_list)"
   ]
  },
  {
   "cell_type": "code",
   "execution_count": 70,
   "id": "07a935fc",
   "metadata": {},
   "outputs": [
    {
     "name": "stdout",
     "output_type": "stream",
     "text": [
      "[17, 5, 2]\n"
     ]
    }
   ],
   "source": [
    "list_num = [16,17,4,3,5,2]\n",
    "ls=[]\n",
    "for x in range(0, len(list_num)):\n",
    "    for j in range(x+1, len(list_num)):\n",
    "        if list_num[x] <= list_num[j]:\n",
    "            break\n",
    "    else:\n",
    "        ls.append(list_num[x])\n",
    "print(ls)"
   ]
  },
  {
   "cell_type": "code",
   "execution_count": 23,
   "id": "0dfc6815",
   "metadata": {},
   "outputs": [
    {
     "name": "stdout",
     "output_type": "stream",
     "text": [
      "[45, 3, 16]\n"
     ]
    }
   ],
   "source": [
    "z = [16,17,4,3,5,2,45]\n",
    "print(z[-1::-3])\n"
   ]
  },
  {
   "cell_type": "code",
   "execution_count": 36,
   "id": "3cc54801",
   "metadata": {},
   "outputs": [
    {
     "name": "stdout",
     "output_type": "stream",
     "text": [
      "190\n"
     ]
    }
   ],
   "source": [
    "height_num = [1,2,8,9,2,1,75,39,15,190]\n",
    "result = height_num[0]\n",
    "for he_num in height_num:\n",
    "    if result < he_num:\n",
    "        result = he_num\n",
    "print(result)"
   ]
  },
  {
   "cell_type": "code",
   "execution_count": 1,
   "id": "fce3cc10",
   "metadata": {},
   "outputs": [
    {
     "name": "stdout",
     "output_type": "stream",
     "text": [
      "juned\n"
     ]
    }
   ],
   "source": [
    "height_marks = {'Haris':33,'sadique':74,'sohel':82,'juned':520,'khalid':20}\n",
    "height_marks_list = []\n",
    "\n",
    "for i in height_marks.values():\n",
    "    height_marks_list.append(i)\n",
    "    height_marks_list.sort(reverse=True)\n",
    "\n",
    "result = height_marks_list[0]\n",
    "\n",
    "for name, marks in height_marks.items():\n",
    "    if marks == result:\n",
    "        print(name)"
   ]
  },
  {
   "cell_type": "code",
   "execution_count": 113,
   "id": "67adee29",
   "metadata": {},
   "outputs": [
    {
     "name": "stdout",
     "output_type": "stream",
     "text": [
      "abc\n",
      "pqr\n",
      "\"xyz\n",
      "tpq\"\n",
      "sys\n"
     ]
    }
   ],
   "source": [
    "string = 'abc pqr \"xyz tpq\" sys'\n",
    "x = string.split(' ')\n",
    "for tree in x:\n",
    "    print(tree)\n"
   ]
  },
  {
   "cell_type": "code",
   "execution_count": 168,
   "id": "a043c0f4",
   "metadata": {},
   "outputs": [
    {
     "ename": "SyntaxError",
     "evalue": "expected ':' (3846018034.py, line 8)",
     "output_type": "error",
     "traceback": [
      "\u001b[1;36m  Cell \u001b[1;32mIn [168], line 8\u001b[1;36m\u001b[0m\n\u001b[1;33m    if x == '\"'\u001b[0m\n\u001b[1;37m               ^\u001b[0m\n\u001b[1;31mSyntaxError\u001b[0m\u001b[1;31m:\u001b[0m expected ':'\n"
     ]
    }
   ],
   "source": [
    "string = 'abc pqr \"xyz tpq\" sys'\n",
    "final = []\n",
    "fi_st = ''\n",
    "for x in string:\n",
    "    if x == ' ':\n",
    "        \n",
    "        print()\n",
    "        continue\n",
    "    if x == '\"':\n",
    "        print(2)\n",
    "    \n",
    "    else:\n",
    "        print(x,end='')\n",
    "print(x)"
   ]
  },
  {
   "cell_type": "code",
   "execution_count": 6,
   "id": "e81c0334",
   "metadata": {},
   "outputs": [
    {
     "name": "stdout",
     "output_type": "stream",
     "text": [
      "abc\n",
      "cpqr\n",
      "r\"xyz\n",
      "ztpq\"\n",
      "\"sys"
     ]
    }
   ],
   "source": [
    "string = 'abc pqr \"xyz tpq\" sys'\n",
    "final = []\n",
    "fi_st = ''\n",
    "for x in string:\n",
    "    if x == ' ':\n",
    "        print(\"\")\n",
    "    else:\n",
    "        fi_st = x\n",
    "#         fi_st =''.join(x)\n",
    "    print(fi_st,end='')"
   ]
  },
  {
   "cell_type": "code",
   "execution_count": null,
   "id": "e488dfaf",
   "metadata": {},
   "outputs": [],
   "source": [
    "string = 'abc pqr \"xyz tpq\" sys'\n",
    "final = []\n",
    "fi_st = ''\n",
    "for x in string:\n",
    "    if x == '\"':\n",
    "        "
   ]
  },
  {
   "cell_type": "code",
   "execution_count": 20,
   "id": "4c77d514",
   "metadata": {},
   "outputs": [
    {
     "name": "stdout",
     "output_type": "stream",
     "text": [
      "abc\n",
      "pqr\n",
      "1\n",
      "\"xyz\n",
      "tpq1\n",
      "\"\n",
      "sys\n",
      "['a', 'b', 'c', ' ', 'p', 'q', 'r', ' ', '\"', 'x', 'y', 'z', ' ', 't', 'p', 'q', '\"', ' ', 's', 'y', 's']\n"
     ]
    }
   ],
   "source": [
    "string = 'abc pqr \"xyz tpq\" sys'\n",
    "final = []\n",
    "\n",
    "for x in string:\n",
    "    final.append(x)\n",
    "for i in final:\n",
    "    if i == '\"':\n",
    "        print('1')\n",
    "    if i == ' ':\n",
    "        \n",
    "        print()\n",
    "        continue\n",
    "        \n",
    "    print(i,end='')\n",
    "print()\n",
    "print(final)"
   ]
  },
  {
   "cell_type": "code",
   "execution_count": 34,
   "id": "b6926dba",
   "metadata": {},
   "outputs": [
    {
     "name": "stdout",
     "output_type": "stream",
     "text": [
      "8\n",
      "abc pqr (xyz tpq\" sys\n"
     ]
    }
   ],
   "source": [
    "inp = 'abc pqr \"xyz tpq\" sys'\n",
    "ind = inp[0]\n",
    "for i in inp:\n",
    "    if i == '\"':\n",
    "        x = inp.find('\"')\n",
    "        ind = x\n",
    "        dekho = inp.replace('\"','(',1)\n",
    "#         inp.replace()\n",
    "print(ind)\n",
    "print(dekho)"
   ]
  },
  {
   "cell_type": "code",
   "execution_count": 4,
   "id": "51f4531c",
   "metadata": {},
   "outputs": [
    {
     "name": "stdout",
     "output_type": "stream",
     "text": [
      "Enter the range4\n",
      "Enter 0 element4\n",
      "Enter 1 element1\n",
      "Enter 2 element2\n",
      "Enter 3 element3\n",
      "[4, 1, 2, 3]\n",
      "Enter the Score5\n",
      "[[4, 1], [1, 4], [2, 3], [3, 2]]\n"
     ]
    }
   ],
   "source": [
    "user_list = []\n",
    "final = []\n",
    "\n",
    "n = int(input('Enter the range'))\n",
    "\n",
    "for i in range(0, n):\n",
    "    imp = int(input(f'Enter {i} element'))\n",
    "    user_list.append(imp)\n",
    "print(user_list)\n",
    "Score = int(input('Enter the Score'))\n",
    "\n",
    "for one in user_list:\n",
    "    for seco in user_list:\n",
    "        re = one + seco\n",
    "        if re == Score :\n",
    "#             final.append(one)\n",
    "#             final.append(seco)\n",
    "            resu = one,seco\n",
    "            final.append(list(resu))\n",
    "print(final)\n"
   ]
  },
  {
   "cell_type": "code",
   "execution_count": null,
   "id": "2884fb15",
   "metadata": {},
   "outputs": [],
   "source": [
    "user_list = []\n",
    "final = []\n",
    "\n",
    "n = int(input('Enter the range'))\n",
    "\n",
    "for i in range(0, n):\n",
    "    imp = int(input(f'Enter {i} element'))\n",
    "    user_list.append(imp)\n",
    "print(user_list)\n",
    "Score = int(input('Enter the Score'))\n",
    "\n",
    "for one in user_list:\n",
    "    for seco in user_list:\n",
    "        re = one + seco\n",
    "        if re == Score :\n",
    "#             final.append(one)\n",
    "#             final.append(seco)\n",
    "            resu = one,seco\n",
    "            if final == []:\n",
    "                final.append(resu)\n",
    "            else:\n",
    "                for ch in final:\n",
    "                    if ch[0] == resu[1] and ch[1] == resu[0]:\n",
    "                        continue\n",
    "                    else:\n",
    "                        final.append(resu)\n",
    "print(final)\n"
   ]
  },
  {
   "cell_type": "code",
   "execution_count": 10,
   "id": "46ebc3aa",
   "metadata": {},
   "outputs": [
    {
     "name": "stdout",
     "output_type": "stream",
     "text": [
      "Enter the range4\n",
      "Enter 0 element4\n",
      "Enter 1 element1\n",
      "Enter 2 element2\n",
      "Enter 3 element3\n",
      "[4, 1, 2, 3]\n",
      "Enter the Score5\n"
     ]
    },
    {
     "ename": "MemoryError",
     "evalue": "",
     "output_type": "error",
     "traceback": [
      "\u001b[1;31m---------------------------------------------------------------------------\u001b[0m",
      "\u001b[1;31mMemoryError\u001b[0m                               Traceback (most recent call last)",
      "Cell \u001b[1;32mIn [10], line 24\u001b[0m\n\u001b[0;32m     22\u001b[0m                         \u001b[38;5;28;01mcontinue\u001b[39;00m\n\u001b[0;32m     23\u001b[0m                     \u001b[38;5;28;01melse\u001b[39;00m:\n\u001b[1;32m---> 24\u001b[0m                         final\u001b[38;5;241m.\u001b[39mappend(resu)\n\u001b[0;32m     25\u001b[0m \u001b[38;5;66;03m#             final.append(one)\u001b[39;00m\n\u001b[0;32m     26\u001b[0m \u001b[38;5;66;03m#             final.append(seco)\u001b[39;00m\n\u001b[0;32m     30\u001b[0m \u001b[38;5;28mprint\u001b[39m(final)\n",
      "\u001b[1;31mMemoryError\u001b[0m: "
     ]
    }
   ],
   "source": [
    "user_list = []\n",
    "final = []\n",
    "\n",
    "n = int(input('Enter the range'))\n",
    "\n",
    "for i in range(0, n):\n",
    "    imp = int(input(f'Enter {i} element'))\n",
    "    user_list.append(imp)\n",
    "print(user_list)\n",
    "Score = int(input('Enter the Score'))\n",
    "\n",
    "for one in user_list:\n",
    "    for seco in user_list:\n",
    "        re = one + seco\n",
    "        if re == Score :\n",
    "            resu = one,seco\n",
    "            if not final:\n",
    "                final.append(resu)\n",
    "            else:\n",
    "                for each in final:\n",
    "                    if each[0] == resu[1] and each[1] == resu[0]:\n",
    "                        continue\n",
    "                    else:\n",
    "                        final.append(resu)\n",
    "#             final.append(one)\n",
    "#             final.append(seco)\n",
    "            \n",
    "            \n",
    "            \n",
    "print(final)\n"
   ]
  },
  {
   "cell_type": "code",
   "execution_count": null,
   "id": "218b8015",
   "metadata": {},
   "outputs": [],
   "source": [
    "class square(self):\n",
    "    def "
   ]
  },
  {
   "cell_type": "code",
   "execution_count": 6,
   "id": "c9a2e934",
   "metadata": {},
   "outputs": [
    {
     "name": "stdout",
     "output_type": "stream",
     "text": [
      "['ff', 'sd', 'ab', 'fa']\n"
     ]
    }
   ],
   "source": [
    "stringList = ['abcdeffadsff', 'afdfsdfdsfsd', 'fdsfdsfsdfab', 'gfhthtgffgfa']\n",
    "newList = [string[10:] for string in stringList]\n",
    "print(newList)"
   ]
  },
  {
   "cell_type": "code",
   "execution_count": null,
   "id": "dd7aedbb",
   "metadata": {},
   "outputs": [],
   "source": []
  },
  {
   "cell_type": "code",
   "execution_count": null,
   "id": "a4ff8d58",
   "metadata": {},
   "outputs": [],
   "source": []
  }
 ],
 "metadata": {
  "kernelspec": {
   "display_name": "Python 3 (ipykernel)",
   "language": "python",
   "name": "python3"
  },
  "language_info": {
   "codemirror_mode": {
    "name": "ipython",
    "version": 3
   },
   "file_extension": ".py",
   "mimetype": "text/x-python",
   "name": "python",
   "nbconvert_exporter": "python",
   "pygments_lexer": "ipython3",
   "version": "3.11.0"
  }
 },
 "nbformat": 4,
 "nbformat_minor": 5
}

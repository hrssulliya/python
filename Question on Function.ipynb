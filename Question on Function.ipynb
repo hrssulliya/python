{
 "cells": [
  {
   "cell_type": "code",
   "execution_count": 21,
   "id": "62e5acf7",
   "metadata": {},
   "outputs": [
    {
     "name": "stdout",
     "output_type": "stream",
     "text": [
      "450\n"
     ]
    }
   ],
   "source": [
    "#‎1.Write a Python function to find the Max of three numbers.‎\n",
    "\n",
    "def maximum(a,b,c):\n",
    "    \n",
    "    if a >= b and a >= c:\n",
    "        largest = a\n",
    "        \n",
    "    elif b >= a and b >= c:\n",
    "        largest = b\n",
    "        \n",
    "    else: \n",
    "        largest = c\n",
    "        \n",
    "    return largest\n",
    "    \n",
    "\n",
    "a = 55\n",
    "b = 450\n",
    "c = 50\n",
    "print(maximum(a,b,c))"
   ]
  },
  {
   "cell_type": "code",
   "execution_count": 28,
   "id": "1bfb3c4d",
   "metadata": {
    "scrolled": true
   },
   "outputs": [
    {
     "name": "stdout",
     "output_type": "stream",
     "text": [
      "Enter the first Number45\n",
      "Enter the symbol+\n",
      "Enter the second Number5\n",
      "50\n"
     ]
    }
   ],
   "source": [
    "#‎2.Define a function that accepts 2 values and return its sum, subtraction ‎and multiplication..‎\n",
    "\n",
    "x = int(input('Enter the first Number'))\n",
    "y = input('Enter the symbol')\n",
    "z = int(input('Enter the second Number'))\n",
    "def result():\n",
    "    if y == '+':\n",
    "        print(x + z)\n",
    "    elif y == '-':\n",
    "        print(x - z)\n",
    "    elif y == '*':\n",
    "        print(x * z)\n",
    "    else:\n",
    "        print(x / z)\n",
    "result() "
   ]
  },
  {
   "cell_type": "code",
   "execution_count": 85,
   "id": "a339d337",
   "metadata": {},
   "outputs": [
    {
     "name": "stdout",
     "output_type": "stream",
     "text": [
      "336\n",
      "1248\n"
     ]
    }
   ],
   "source": [
    "#‎3.Write a Python function to multiply all the numbers in a list.‎\n",
    "\n",
    "\n",
    "def multiply(numbers):  \n",
    "    total = 1\n",
    "    for x in numbers:\n",
    "        total *= x  \n",
    "    return total \n",
    "\n",
    "a = [8, 2, 3, 1, 7]\n",
    "res=multiply(a)\n",
    "print(res)\n",
    "\n",
    "b=[12,4,2,13]\n",
    "print(multiply(b))\n"
   ]
  },
  {
   "cell_type": "code",
   "execution_count": 87,
   "id": "fa3800b4",
   "metadata": {},
   "outputs": [
    {
     "name": "stdout",
     "output_type": "stream",
     "text": [
      "120\n"
     ]
    }
   ],
   "source": [
    "#‎4.Write a Python function to calculate the factorial of a number (a non-negative integer). The function accepts the number as an argument\n",
    "\n",
    "def fact(a):\n",
    "    factorial=1\n",
    "    for x in range(1, a+1):\n",
    "        factorial = factorial * x\n",
    "    print(factorial)\n",
    "fact(5)\n"
   ]
  },
  {
   "cell_type": "code",
   "execution_count": 110,
   "id": "9001c25f",
   "metadata": {},
   "outputs": [
    {
     "name": "stdout",
     "output_type": "stream",
     "text": [
      "[1, 4, 9, 16, 25, 36, 49, 64, 81, 100, 121, 144, 169, 196, 225, 256, 289, 324, 361, 400, 441, 484, 529, 576, 625, 676, 729, 784, 841]\n"
     ]
    }
   ],
   "source": [
    "#5.Write a Python function to create and print a list where the values are square of numbers between 1 and 30 (both included).\n",
    "\n",
    "lis = []\n",
    "def square(a):\n",
    "    for i in range(1,a):\n",
    "        lis.append(i ** 2)\n",
    "square(30)\n",
    "print(lis)"
   ]
  },
  {
   "cell_type": "code",
   "execution_count": 144,
   "id": "ad7832e6",
   "metadata": {},
   "outputs": [
    {
     "name": "stdout",
     "output_type": "stream",
     "text": [
      "[1, 4, 9, 16, 25, 36, 49]\n"
     ]
    }
   ],
   "source": [
    "lis = []\n",
    "def square(a):\n",
    "    for i in range(1,a):\n",
    "        for x in range(1,a):\n",
    "            if i == x **2:\n",
    "                lis.append(i)\n",
    "            else:\n",
    "                continue\n",
    "square(50)\n",
    "print(lis)"
   ]
  },
  {
   "cell_type": "code",
   "execution_count": 113,
   "id": "0661bb92",
   "metadata": {},
   "outputs": [
    {
     "name": "stdout",
     "output_type": "stream",
     "text": [
      "(5, 32)\n"
     ]
    }
   ],
   "source": [
    "#6.Write a Python function that accepts a string and calculate the number of upper case letters and lower case letters\n",
    "\n",
    "def up_low(string):\n",
    "    uppers = 0\n",
    "    lowers = 0\n",
    "    for i in string:\n",
    "        if i.islower():\n",
    "            lowers += 1\n",
    "        elif i.isupper():\n",
    "            uppers += 1\n",
    "        else:\n",
    "            pass\n",
    "    return(uppers, lowers)\n",
    "        \n",
    "\n",
    "print(up_low('Hello Mr. Rogers, How are you this fine Tuesday?'))"
   ]
  },
  {
   "cell_type": "code",
   "execution_count": 7,
   "id": "c24cda8e",
   "metadata": {},
   "outputs": [],
   "source": [
    "#7.Define a function that accepts roll number and returns whether the student is present or absent.\n",
    "\n"
   ]
  },
  {
   "cell_type": "code",
   "execution_count": 140,
   "id": "57023c6a",
   "metadata": {},
   "outputs": [
    {
     "name": "stdout",
     "output_type": "stream",
     "text": [
      "(30, 15)\n"
     ]
    }
   ],
   "source": [
    "#8.Define a function which counts vowels and consonant in a word.\n",
    "\n",
    "def con_vowe(string):\n",
    "    vowels = 0\n",
    "    consonant = 0\n",
    "    \n",
    "    for i in string:\n",
    "        if i == 'a' or i == 'e' or i == 'i' or i == 'o' or i == 'u':\n",
    "            vowels += 1\n",
    "        elif i != 'a' or i != 'e' or i != 'i' or i != 'o' or i != 'u':\n",
    "            consonant += 1\n",
    "        elif i == ' ':\n",
    "            vowels -= 1\n",
    "            consonant -= 1\n",
    "        else:\n",
    "            continue\n",
    "    return(consonant, vowels)\n",
    "        \n",
    "\n",
    "print(con_vowe('Hello Mr.Rogers How are you this fine Tuesday'))"
   ]
  },
  {
   "cell_type": "code",
   "execution_count": 11,
   "id": "693b71af",
   "metadata": {},
   "outputs": [
    {
     "data": {
      "text/plain": [
       "[2, 4, 6, 8, 10, 22, 14, 54]"
      ]
     },
     "execution_count": 11,
     "metadata": {},
     "output_type": "execute_result"
    }
   ],
   "source": [
    "num = [1,2,3,4,5,6,7,8,9,10,22,14,54]\n",
    "\n",
    "even = list(filter(lambda n : n%2 == 0 , num))\n",
    "even"
   ]
  },
  {
   "cell_type": "code",
   "execution_count": 4,
   "id": "251eea23",
   "metadata": {},
   "outputs": [
    {
     "data": {
      "text/plain": [
       "[4, 8, 2]"
      ]
     },
     "execution_count": 4,
     "metadata": {},
     "output_type": "execute_result"
    }
   ],
   "source": [
    "def true(x):\n",
    "    if x%2==0:\n",
    "        return True\n",
    "    else:\n",
    "        return False\n",
    "ls = [3,4,8,2]\n",
    "ghi = list(filter(true, ls))\n",
    "ghi"
   ]
  },
  {
   "cell_type": "code",
   "execution_count": 11,
   "id": "aeee9177",
   "metadata": {},
   "outputs": [
    {
     "data": {
      "text/plain": [
       "[9, 16, 64, 4]"
      ]
     },
     "execution_count": 11,
     "metadata": {},
     "output_type": "execute_result"
    }
   ],
   "source": [
    "def my(x):\n",
    "    return x*x\n",
    "ls = [3,4,8,2]\n",
    "abc = list(map(my, ls))\n",
    "abc"
   ]
  },
  {
   "cell_type": "code",
   "execution_count": null,
   "id": "5454f531",
   "metadata": {},
   "outputs": [],
   "source": []
  }
 ],
 "metadata": {
  "kernelspec": {
   "display_name": "Python 3 (ipykernel)",
   "language": "python",
   "name": "python3"
  },
  "language_info": {
   "codemirror_mode": {
    "name": "ipython",
    "version": 3
   },
   "file_extension": ".py",
   "mimetype": "text/x-python",
   "name": "python",
   "nbconvert_exporter": "python",
   "pygments_lexer": "ipython3",
   "version": "3.11.0"
  }
 },
 "nbformat": 4,
 "nbformat_minor": 5
}

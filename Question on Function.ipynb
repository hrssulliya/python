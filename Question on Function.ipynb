{
 "cells": [
  {
   "cell_type": "code",
   "execution_count": 1,
   "id": "62e5acf7",
   "metadata": {},
   "outputs": [],
   "source": [
    "#‎1.Write a Python function to find the Max of three numbers.‎"
   ]
  },
  {
   "cell_type": "code",
   "execution_count": 2,
   "id": "1bfb3c4d",
   "metadata": {},
   "outputs": [],
   "source": [
    "#‎2.Define a function that accepts 2 values and return its sum, subtraction ‎and multiplication..‎"
   ]
  },
  {
   "cell_type": "code",
   "execution_count": 3,
   "id": "a339d337",
   "metadata": {},
   "outputs": [],
   "source": [
    "#‎3.Write a Python function to multiply all the numbers in a list.‎"
   ]
  },
  {
   "cell_type": "code",
   "execution_count": 4,
   "id": "fa3800b4",
   "metadata": {},
   "outputs": [],
   "source": [
    "#‎4.Write a Python function to calculate the factorial of a number (a ‎non-negative integer). The function accepts the number as an ‎argument"
   ]
  },
  {
   "cell_type": "code",
   "execution_count": 5,
   "id": "9001c25f",
   "metadata": {},
   "outputs": [],
   "source": [
    "#‎5.Write a Python function to create and print a list where the values ‎are square of numbers between 1 and 30 (both included).‎"
   ]
  },
  {
   "cell_type": "code",
   "execution_count": 6,
   "id": "0661bb92",
   "metadata": {},
   "outputs": [],
   "source": [
    "#‎6.Write a Python function that accepts a string and calculate the ‎number of upper case letters and lower case letters"
   ]
  },
  {
   "cell_type": "code",
   "execution_count": 7,
   "id": "c24cda8e",
   "metadata": {},
   "outputs": [],
   "source": [
    "#‎7.Define a function that accepts roll number and returns whether the ‎student is present or absent.‎"
   ]
  },
  {
   "cell_type": "code",
   "execution_count": 8,
   "id": "57023c6a",
   "metadata": {},
   "outputs": [],
   "source": [
    "#‎8.Define a function which counts vowels and consonant in a word.‎"
   ]
  },
  {
   "cell_type": "code",
   "execution_count": null,
   "id": "88707efa",
   "metadata": {},
   "outputs": [],
   "source": [
    "#‎9.Define a function that accepts radius and returns the area of a circle.‎"
   ]
  }
 ],
 "metadata": {
  "kernelspec": {
   "display_name": "Python 3 (ipykernel)",
   "language": "python",
   "name": "python3"
  },
  "language_info": {
   "codemirror_mode": {
    "name": "ipython",
    "version": 3
   },
   "file_extension": ".py",
   "mimetype": "text/x-python",
   "name": "python",
   "nbconvert_exporter": "python",
   "pygments_lexer": "ipython3",
   "version": "3.11.0"
  }
 },
 "nbformat": 4,
 "nbformat_minor": 5
}

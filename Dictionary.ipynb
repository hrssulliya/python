{
 "cells": [
  {
   "cell_type": "code",
   "execution_count": 12,
   "id": "d7f2f087",
   "metadata": {},
   "outputs": [
    {
     "name": "stdout",
     "output_type": "stream",
     "text": [
      "<class 'dict'>\n"
     ]
    }
   ],
   "source": [
    "dict = {\n",
    "    'fmane':'haris',\n",
    "    'lname': 'rafik',\n",
    "    'sname':'sulliya',\n",
    "    'age':23,    \n",
    "}\n",
    "print(type(dict))"
   ]
  },
  {
   "cell_type": "code",
   "execution_count": 13,
   "id": "a551a44a",
   "metadata": {},
   "outputs": [
    {
     "name": "stdout",
     "output_type": "stream",
     "text": [
      "<class 'dict'>\n"
     ]
    }
   ],
   "source": [
    "dict = {}\n",
    "print(type(dict))"
   ]
  },
  {
   "cell_type": "code",
   "execution_count": 2,
   "id": "fafc3519",
   "metadata": {},
   "outputs": [
    {
     "name": "stdout",
     "output_type": "stream",
     "text": [
      "{'fmane': 'haris', 'lname': 'rafik', 'sname': 'sulliya', 'age': 23}\n"
     ]
    }
   ],
   "source": [
    "dict = {\n",
    "    'fmane':'haris',\n",
    "    'lname': 'rafik',\n",
    "    'sname':'sulliya',\n",
    "    'age':23,    \n",
    "}\n",
    "print(dict)"
   ]
  },
  {
   "cell_type": "code",
   "execution_count": 8,
   "id": "052e4fb0",
   "metadata": {},
   "outputs": [
    {
     "name": "stdout",
     "output_type": "stream",
     "text": [
      "sulliya\n"
     ]
    }
   ],
   "source": [
    "dict = {\n",
    "    'fmane':'haris',\n",
    "    'lname': 'rafik',\n",
    "    'sname':'sulliya',\n",
    "    'age':23,    \n",
    "}\n",
    "print(dict['sname'])"
   ]
  },
  {
   "cell_type": "code",
   "execution_count": 4,
   "id": "640efda8",
   "metadata": {},
   "outputs": [
    {
     "name": "stdout",
     "output_type": "stream",
     "text": [
      "fmane\n",
      "lname\n",
      "sname\n",
      "age\n"
     ]
    }
   ],
   "source": [
    "dict = {\n",
    "    'fmane':'haris',\n",
    "    'lname': 'rafik',\n",
    "    'sname':'sulliya',\n",
    "    'age':23,    \n",
    "}\n",
    "for i in dict:\n",
    "    print(i)"
   ]
  },
  {
   "cell_type": "code",
   "execution_count": 6,
   "id": "ab1e8185",
   "metadata": {},
   "outputs": [
    {
     "name": "stdout",
     "output_type": "stream",
     "text": [
      "haris\n",
      "rafik\n",
      "sulliya\n",
      "23\n"
     ]
    }
   ],
   "source": [
    "dict = {\n",
    "    'fmane':'haris',\n",
    "    'lname': 'rafik',\n",
    "    'sname':'sulliya',\n",
    "    'age':23,    \n",
    "}\n",
    "for i in dict.values():\n",
    "    print(i)"
   ]
  },
  {
   "cell_type": "code",
   "execution_count": 7,
   "id": "1d4ab306",
   "metadata": {},
   "outputs": [
    {
     "name": "stdout",
     "output_type": "stream",
     "text": [
      "('fmane', 'haris')\n",
      "('lname', 'rafik')\n",
      "('sname', 'sulliya')\n",
      "('age', 23)\n"
     ]
    }
   ],
   "source": [
    "dict = {\n",
    "    'fmane':'haris',\n",
    "    'lname': 'rafik',\n",
    "    'sname':'sulliya',\n",
    "    'age':23,    \n",
    "}\n",
    "for i in dict.items():\n",
    "    print(i)"
   ]
  },
  {
   "cell_type": "code",
   "execution_count": 10,
   "id": "961a8afc",
   "metadata": {},
   "outputs": [
    {
     "name": "stdout",
     "output_type": "stream",
     "text": [
      "{'fmane': 'haris', 'lname': 'rafik', 'sname': 'sulliya', 'age': 23, 'color': 'red'}\n"
     ]
    }
   ],
   "source": [
    "#add\n",
    "dict = {\n",
    "    'fmane':'haris',\n",
    "    'lname': 'rafik',\n",
    "    'sname':'sulliya',\n",
    "    'age':23,    \n",
    "}\n",
    "dict['color'] = 'red'\n",
    "print(dict)"
   ]
  },
  {
   "cell_type": "code",
   "execution_count": 11,
   "id": "e70ab4a6",
   "metadata": {},
   "outputs": [
    {
     "name": "stdout",
     "output_type": "stream",
     "text": [
      "{'fmane': 'haris', 'lname': 'rafik', 'sname': 'sulliya', 'age': 'red'}\n"
     ]
    }
   ],
   "source": [
    "#add\n",
    "dict = {\n",
    "    'fmane':'haris',\n",
    "    'lname': 'rafik',\n",
    "    'sname':'sulliya',\n",
    "    'age':23,    \n",
    "}\n",
    "dict['age'] = 'red'\n",
    "print(dict)"
   ]
  },
  {
   "cell_type": "code",
   "execution_count": null,
   "id": "253dae4b",
   "metadata": {},
   "outputs": [],
   "source": []
  }
 ],
 "metadata": {
  "kernelspec": {
   "display_name": "Python 3 (ipykernel)",
   "language": "python",
   "name": "python3"
  },
  "language_info": {
   "codemirror_mode": {
    "name": "ipython",
    "version": 3
   },
   "file_extension": ".py",
   "mimetype": "text/x-python",
   "name": "python",
   "nbconvert_exporter": "python",
   "pygments_lexer": "ipython3",
   "version": "3.11.0"
  }
 },
 "nbformat": 4,
 "nbformat_minor": 5
}

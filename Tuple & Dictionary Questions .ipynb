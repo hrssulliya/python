{
 "cells": [
  {
   "cell_type": "code",
   "execution_count": 77,
   "id": "6e7adf30",
   "metadata": {},
   "outputs": [
    {
     "name": "stdout",
     "output_type": "stream",
     "text": [
      "Enter Element45\n",
      "Enter Element48\n",
      "Enter Element75\n",
      "Enter Element84\n",
      "Enter Element89\n",
      "Enter Element52\n",
      "Enter Element56\n",
      "Enter Element57\n",
      "Enter Element52\n",
      "Enter Element41\n",
      "(45, 48, 75, 84, 89)\n",
      "(52, 56, 57, 52, 41)\n"
     ]
    }
   ],
   "source": [
    "#1.To create a tuple having a number from 10. Print the half of its value in 1 line and other half in next line.\n",
    "tupl = []\n",
    "\n",
    "for i in range(10):\n",
    "    tupl.append(int(input('Enter Element')))\n",
    "    \n",
    "tup = tuple(tupl)\n",
    "\n",
    "tup1 = tup[:5]\n",
    "tup2 = tup[5:]\n",
    "print(tup1)\n",
    "print(tup2)"
   ]
  },
  {
   "cell_type": "code",
   "execution_count": 85,
   "id": "aa888ebc",
   "metadata": {},
   "outputs": [
    {
     "name": "stdout",
     "output_type": "stream",
     "text": [
      "Enter Element41\n",
      "Enter Element42\n",
      "Enter Element43\n",
      "Enter Element44\n",
      "Enter Element45\n",
      "Enter Element46\n",
      "Enter Element47\n",
      "Enter Element48\n",
      "Enter Element49\n",
      "Enter Element50\n",
      "[42, 44, 46, 48, 50]\n"
     ]
    }
   ],
   "source": [
    "#2.To create a tuple consisting of 10 number from a user. Create another tuple whose values are even number in the first tuple.‎\n",
    "\n",
    "tupl = []\n",
    "\n",
    "for i in range(10):\n",
    "    tupl.append(int(input('Enter Element')))\n",
    "    \n",
    "tup = tuple(tupl)\n",
    "print([x for x in tup if x%2 == 0])\n"
   ]
  },
  {
   "cell_type": "code",
   "execution_count": 40,
   "id": "08ee5d91",
   "metadata": {},
   "outputs": [
    {
     "name": "stdout",
     "output_type": "stream",
     "text": [
      "('Apple', 'Banana', 'Cherry', 'papaya', 'Mango', 'Guava', 'Pineapple')\n"
     ]
    }
   ],
   "source": [
    "#3.To concatenate two tuples .\n",
    "tup = ('Apple', 'Banana', 'Cherry','papaya')\n",
    "tup1 = ('Mango', 'Guava', 'Pineapple')\n",
    "\n",
    "tup3 = tup + tup1\n",
    "print(tup3)"
   ]
  },
  {
   "cell_type": "code",
   "execution_count": 44,
   "id": "90670ffc",
   "metadata": {},
   "outputs": [
    {
     "name": "stdout",
     "output_type": "stream",
     "text": [
      "Apple\n",
      "yes\n"
     ]
    }
   ],
   "source": [
    "#4.To check whether a given element is present in tuple or not .\n",
    "\n",
    "tupli = ('Apple', 'Banana', 'Cherry','papaya','Mango', 'Guava', 'Pineapple')\n",
    "a = input()\n",
    "\n",
    "if a in tupli:\n",
    "    print('yes')\n",
    "else:\n",
    "    print('No')"
   ]
  },
  {
   "cell_type": "code",
   "execution_count": 72,
   "id": "0bf53dad",
   "metadata": {},
   "outputs": [
    {
     "name": "stdout",
     "output_type": "stream",
     "text": [
      "False\n",
      "\n",
      "4\n",
      "\n",
      "(('m', 'y'), ('vill', 'age'), ('i', 's'), ('be', 'st'))\n",
      "\n",
      "88\n",
      "\n",
      "2\n"
     ]
    }
   ],
   "source": [
    "#5.To use the following methods on a tuple in the program: cmp(t1,t2)/t1==t2 ,len(t1) , zip(t1,t2) , max(t) , min(t) , tuple()‎\n",
    "\n",
    "tup1 = ('m', 'vill', 'i' , 'be')\n",
    "tup2 = ('y', 'age', 's' , 'st')\n",
    "\n",
    "\n",
    "print('True') if tup1 == tup2 else print('False')\n",
    "print()\n",
    "\n",
    "print(len(tup1))\n",
    "print()\n",
    "\n",
    "x = zip(tup1, tup2)\n",
    "print(tuple(x))\n",
    "\n",
    "print()\n",
    "\n",
    "\n",
    "a = max(40,50,2,9,15,88)\n",
    "print(a)\n",
    "print()\n",
    "\n",
    "b = min(40,50,2,9,15,88)\n",
    "print(b)"
   ]
  },
  {
   "cell_type": "code",
   "execution_count": 69,
   "id": "9cc9865a",
   "metadata": {},
   "outputs": [
    {
     "name": "stdout",
     "output_type": "stream",
     "text": [
      "fname haris\n",
      "mname rafik\n",
      "lname sulliya\n",
      "age 23\n",
      "Quli Alim\n",
      "\n",
      "fname haris\n",
      "mname rafik\n",
      "lname sulliya\n",
      "age 23\n",
      "Quli Alim\n",
      "skill searching\n",
      "\n",
      "fname haris\n",
      "mname rafik\n",
      "lname sulliya\n",
      "age 23\n",
      "skill searching\n"
     ]
    }
   ],
   "source": [
    "#6.To create a dictionary with any five key value pair . print the dictionary . Add an element in a given dictionary and delete an element\n",
    "\n",
    "dict = {\n",
    "    'fname':'haris',\n",
    "    'mname':'rafik',\n",
    "    'lname':'sulliya',\n",
    "    'age':23,\n",
    "    'Quli':'Alim'\n",
    "}\n",
    "\n",
    "for x,y in dict.items():\n",
    "    print(x,y)\n",
    "print()\n",
    "    \n",
    "dict.update({'skill':'searching'})\n",
    "\n",
    "for x,y in dict.items():\n",
    "    print(x,y)\n",
    "    \n",
    "print()  \n",
    "\n",
    "dict.pop('Quli')\n",
    "for x,y in dict.items():\n",
    "    print(x,y)"
   ]
  },
  {
   "cell_type": "code",
   "execution_count": 74,
   "id": "e8a75ff7",
   "metadata": {},
   "outputs": [
    {
     "name": "stdout",
     "output_type": "stream",
     "text": [
      "{'Pineapple', 'Mango', 'Guava', 'papaya', 'Banana'}\n",
      "\n",
      "{2016, 2020, 2000, 2004, 2008, 2012}\n",
      "\n",
      "{3, 6, 9, 12, 15, 18, 21, 24, 27, 30}\n"
     ]
    }
   ],
   "source": [
    "#7.To create 2 dictionaries using dictionary comprehension method.\n",
    "\n",
    "list1 = {'Apple', 'Banana', 'Cherry', 'Mango', 'Guava', 'Pineapple', 'papaya'}\n",
    "newlist = {x for x in list1 if 'a' in x}\n",
    "\n",
    "newlist2 = {x for x in range(1999, 2021) if x % 4 == 0}\n",
    "\n",
    "newlist3 = {x*3 for x in range(1, 11)}\n",
    "\n",
    "\n",
    "print(newlist)\n",
    "print()\n",
    "print(newlist2)\n",
    "print()\n",
    "print(newlist3)"
   ]
  },
  {
   "cell_type": "code",
   "execution_count": 8,
   "id": "aa284298",
   "metadata": {},
   "outputs": [],
   "source": [
    "#8.To demonstrate any five methods on dictionary\n",
    "\n",
    ".get()\n",
    ".keys()\n",
    ".values()\n",
    ".items()\n",
    ".update()\n",
    ".pop()\n",
    ".popitems()\n",
    "del\n",
    "clear()\n",
    "copy()\n",
    "dict()\n",
    "zip()"
   ]
  },
  {
   "cell_type": "code",
   "execution_count": 9,
   "id": "f1784f79",
   "metadata": {},
   "outputs": [],
   "source": [
    "#9.To demonstrate 5 methods of python data structure set .\n",
    "len()\n",
    ".add()\n",
    ".update()\n",
    ".remove()\n",
    ".discard()\n",
    "del\n",
    ".clear()\n",
    ".union()"
   ]
  },
  {
   "cell_type": "code",
   "execution_count": 3,
   "id": "c9598594",
   "metadata": {},
   "outputs": [],
   "source": [
    "#10.To implement caser cipher using dictionary\n"
   ]
  },
  {
   "cell_type": "code",
   "execution_count": null,
   "id": "6388fc15",
   "metadata": {},
   "outputs": [],
   "source": []
  }
 ],
 "metadata": {
  "kernelspec": {
   "display_name": "Python 3 (ipykernel)",
   "language": "python",
   "name": "python3"
  },
  "language_info": {
   "codemirror_mode": {
    "name": "ipython",
    "version": 3
   },
   "file_extension": ".py",
   "mimetype": "text/x-python",
   "name": "python",
   "nbconvert_exporter": "python",
   "pygments_lexer": "ipython3",
   "version": "3.11.0"
  }
 },
 "nbformat": 4,
 "nbformat_minor": 5
}

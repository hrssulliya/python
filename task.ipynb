{
 "cells": [
  {
   "cell_type": "code",
   "execution_count": 49,
   "id": "158c9da7",
   "metadata": {},
   "outputs": [
    {
     "name": "stdout",
     "output_type": "stream",
     "text": [
      "0 A 0 B 0 C 0 d\n"
     ]
    }
   ],
   "source": [
    "list1 = 'AAADDBCCCAA'\n",
    "\n",
    "for i in list1:\n",
    "    a=0\n",
    "    b=0\n",
    "    c=0\n",
    "    d=0\n",
    "    if i == a:\n",
    "        a+=1\n",
    "    elif i == b:\n",
    "        b+=1\n",
    "    elif i == c:\n",
    "        c+=1\n",
    "    elif i == d:\n",
    "        d+=1\n",
    "print(a,'A',b,'B',c,'C',d,'d')\n",
    "        \n",
    "        \n"
   ]
  },
  {
   "cell_type": "code",
   "execution_count": null,
   "id": "6404a546",
   "metadata": {},
   "outputs": [],
   "source": []
  },
  {
   "cell_type": "code",
   "execution_count": 58,
   "id": "15b2357f",
   "metadata": {},
   "outputs": [
    {
     "name": "stdout",
     "output_type": "stream",
     "text": [
      "3A2D1B3C2A\n"
     ]
    }
   ],
   "source": [
    "def process_string(source):\n",
    "    new = ''\n",
    "    while source:\n",
    "        counter = 0\n",
    "        first_char = source[0]\n",
    "        while source and source[0] == first_char:\n",
    "            counter += 1\n",
    "            source = source[1:]\n",
    "        new += f'{counter}{first_char}'\n",
    "    return new\n",
    "\n",
    "print(process_string('AAADDBCCCAA'))"
   ]
  },
  {
   "cell_type": "code",
   "execution_count": 59,
   "id": "e04f64f1",
   "metadata": {},
   "outputs": [
    {
     "name": "stdout",
     "output_type": "stream",
     "text": [
      "A3D2B1C3A2\n"
     ]
    }
   ],
   "source": [
    "s=\"AAADDBCCCAA\"\n",
    "b=''\n",
    "c=1\n",
    "for i in range(len(s)):\n",
    "    if i < len(s)-1 and  s[i] == s[i+1]:\n",
    "        c+=1\n",
    "    else:\n",
    "        b+=s[i] + str(c)\n",
    "        c=1\n",
    "print(b)"
   ]
  },
  {
   "cell_type": "code",
   "execution_count": 4,
   "id": "32a39d90",
   "metadata": {},
   "outputs": [],
   "source": []
  },
  {
   "cell_type": "code",
   "execution_count": 4,
   "id": "99ead75c",
   "metadata": {},
   "outputs": [
    {
     "name": "stdout",
     "output_type": "stream",
     "text": [
      "[2, 6, 8, 4, 2]\n"
     ]
    }
   ],
   "source": [
    "from functools import reduce\n",
    "num = [3,2,6,8,4,7,2,9]\n",
    "even = list(filter(lambda n:n%2 ==0 , num))\n",
    "print(even)"
   ]
  },
  {
   "cell_type": "code",
   "execution_count": 5,
   "id": "74549417",
   "metadata": {},
   "outputs": [
    {
     "name": "stdout",
     "output_type": "stream",
     "text": [
      "[4, 12, 16, 8, 4]\n"
     ]
    }
   ],
   "source": [
    "multi = list(map(lambda n:n*2,even))\n",
    "print(multi)"
   ]
  },
  {
   "cell_type": "code",
   "execution_count": 6,
   "id": "d0117f0b",
   "metadata": {},
   "outputs": [
    {
     "name": "stdout",
     "output_type": "stream",
     "text": [
      "44\n"
     ]
    }
   ],
   "source": [
    "sum = reduce(lambda a,b: a+b,multi)\n",
    "print(sum)"
   ]
  },
  {
   "cell_type": "code",
   "execution_count": null,
   "id": "95ac860b",
   "metadata": {},
   "outputs": [],
   "source": []
  }
 ],
 "metadata": {
  "kernelspec": {
   "display_name": "Python 3 (ipykernel)",
   "language": "python",
   "name": "python3"
  },
  "language_info": {
   "codemirror_mode": {
    "name": "ipython",
    "version": 3
   },
   "file_extension": ".py",
   "mimetype": "text/x-python",
   "name": "python",
   "nbconvert_exporter": "python",
   "pygments_lexer": "ipython3",
   "version": "3.11.0"
  }
 },
 "nbformat": 4,
 "nbformat_minor": 5
}

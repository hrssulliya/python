{
 "cells": [
  {
   "cell_type": "code",
   "execution_count": null,
   "id": "b5288867",
   "metadata": {},
   "outputs": [],
   "source": [
    "Shoppingcart = {\n",
    "    '1': {'color': 'like pink',\n",
    "          'discount': 2, \n",
    "          'image': '4ca4987ff734ba522238.jpg', \n",
    "          'name': 'baby fabric shoes', \n",
    "          'price': '120.00', \n",
    "          'quantity': '1'}, \n",
    "    '10': {'color': 'White', \n",
    "           'discount': 10, \n",
    "           'image': '0cb398b60b8b1c2fda53.jpg', \n",
    "           'name': 'Running & Trekking Shoes', \n",
    "           'price': '299.00', \n",
    "           'quantity': '1'}, \n",
    "    '11': {'color': 'Black', \n",
    "           'discount': 5, \n",
    "           'image': '156104cfdbd822556e92.jpg',  \n",
    "           'name': ' Trekking & Running Shoes', \n",
    "           'price': '499.00', \n",
    "           'quantity': '1'}, \n",
    "    '12': {'color': 'golden',\n",
    "           'discount': 10, \n",
    "           'image': '93b92c891239f8f51752.jpg', \n",
    "           'name': 'Womens Party Wear Shoes', \n",
    "           'price': '499.00', \n",
    "           'quantity': '1'}, \n",
    "    '13': {'color': 'black', \n",
    "           'discount': 0, \n",
    "           'image': '3cc6ce4d0c1b673eb5c2.jpg',  \n",
    "           'name': \"Sports Claw Women's Shoes\", \n",
    "           'price': '255.00', \n",
    "           'quantity': '1'}, \n",
    "    '14': {'color': 'golden', 'discount': 0, 'image': '880fe4cdd3e47b60fafb.jpg', 'name': 'Pocket Watch Leather Pouch', 'price': '244.00', 'quantity': '1'}, \n",
    "    '15': {'color': ' Silver', 'discount': 5, 'image': '6ef9b79eb8d1c78d330a.jpg', 'name': 'Deer Heart Necklace Jewellery', 'price': '299.00', 'quantity': '1'}, \n",
    "    '16': {'color': 'gold', 'discount': 0, 'image': 'd2ef1b8cb208d272479e.jpg', 'name': 'Titan 100 Ml Womens Perfume', 'price': '455.00', 'quantity': '1'}, \n",
    "    '17': {'color': 'gold', 'discount': 4, 'image': '81e229bc7cd20a3ff196.jpg', 'name': \"Men's Leather Reversible Belt\", 'price': '255.00', 'quantity': '1'}, \n",
    "    '18': {'color': 'red', 'discount': 4, 'image': 'e4b106256bde772332c5.jpg', 'name': 'shampoo', 'price': '599.00', 'quantity': '1'}, \n",
    "    '19': {'color': 'Rose Gold', 'discount': 10, 'image': '77af4b57bb3891fc144a.jpg', 'name': 'Rose Gold diamonds Earring', 'price': '4999.00', 'quantity': '1'}, \n",
    "    '2': {'color': 'blue', 'discount': 5, 'image': '929b656ec941b067b14f.jpg', 'name': \"men's hoodies t-shirt\", 'price': '250.00', 'quantity': '1'}, \n",
    "    '20': {'color': 'black', 'discount': 20, 'image': '5e920c8441a610c62397.jpg', 'name': ' Mens Winter Leathers Jackets', 'price': '399.00', 'quantity': '1'}, \n",
    "    '21': {'color': 'gold', 'discount': 5, 'image': '3a8949d0f89770e18685.jpg', 'name': 'lady Winter Leathers Jackets', 'price': '399.00', 'quantity': '1'}, \n",
    "    '22': {'color': 'gold', 'discount': 0, 'image': 'c437f9ff3d3ff35c95ec.jpg', 'name': 'lady Winter Leathers Jackets', 'price': '355.00', 'quantity': '1'}, \n",
    "    '23': {'color': 'Brown', 'discount': 10, 'image': 'e6bce2c3b3633aa2e4be.jpg', 'name': \"Casual Men's Brown shoes\", 'price': '599.00', 'quantity': '1'}, \n",
    "    '24': {'color': 'black', 'discount': 20, 'image': '18f1a7c854a7ace2a434.jpg', 'name': 'Smart watche Vital Plus', 'price': '1800.00', 'quantity': '1'}, \n",
    "    '25': {'color': 'Brown', 'discount': 0, 'image': 'de55c601eab81a971a95.jpg', 'name': \"Men's Leather Formal Wear shoes\", 'price': '700.00', 'quantity': '1'}, \n",
    "    '26': {'color': 'pink', 'discount': 2, 'image': '4380328df15a77506888.jpg', 'name': 'Better Basics French Terry Sweatshorts', 'price': '155.00', 'quantity': '1'}, \n",
    "    '27': {'color': 'black', 'discount': 0, 'image': 'cf5879be5b22f2d946f7.jpg', 'name': 'Smart watche', 'price': '599.00', 'quantity': '1'}, \n",
    "    '28': {'color': 'Rose Gold', 'discount': 4, 'image': 'f0747cf2cf72e82b8847.jpg', 'name': ' platinum zircon classic ring platinum Zircon Classic Ring', 'price': '255.00', 'quantity': '1'}, \n",
    "    '29': {'color': 'black', 'discount': 5, 'image': 'c05784967e4f19a49c93.jpg', 'name': 'pandrive', 'price': '1399.00', 'quantity': '1'}, \n",
    "    '3': {'color': 'light blue', 'discount': 0, 'image': '3e639ddfffb49d039b20.jpg', 'name': 'girls t-shirt', 'price': '159.00', 'quantity': '1'}, \n",
    "    '30': {'color': 'black', 'discount': 0, 'image': '5d7491bab8e0373d95ac.jpg', 'name': 'asus lepto vivo book', 'price': '45000.00', 'quantity': '1'}, \n",
    "    '31': {'color': 'Dark gray', 'discount': 20, 'image': '3d273d92ac2da362f8b6.jpg', 'name': 'Logitech K380 Wireless', 'price': '2595.00', 'quantity': '1'}, \n",
    "    '32': {'color': 'black', 'discount': 20, 'image': 'a3da2217f8f03e644b15.jpg', 'name': 'Boult Wired Over Ear Headphones', 'price': '29000.00', 'quantity': '1'}, \n",
    "    '34': {'color': 'Black', 'discount': 0, 'image': 'faa10f9d7405d0d33421.jpg', 'name': 'BenQ LED Computer Monitor, ', 'price': '4599.00', 'quantity': '1'}, \n",
    "    '35': {'color': 'Space Black', 'discount': 0, 'image': '9ce0c039edbe08c561d5.jpg', 'name': 'Apple iPhone 14 Pro Max', 'price': '139900.00', 'quantity': '1'}, \n",
    "    '36': {'color': 'Black', 'discount': 0, 'image': 'b394d157ed5133567cfa.jpg', 'name': 'Callas Computer Desk Home/Office', 'price': '299.00', 'quantity': '1'}, \n",
    "    '37': {'color': 'Black', 'discount': 2, 'image': '27369a3e265a3010cb7d.png', 'name': 'Tarun child care Booties', 'price': '399.00', 'quantity': '1'}, \n",
    "    '4': {'color': 'wooden', 'discount': 2, 'image': 'fd265e9d27dfdb303831.jpg', 'name': 'woolen hat for men', 'price': '199.00', 'quantity': '1'}, \n",
    "    '5': {'color': 'white & lightblue', 'discount': 8, 'image': '71c2eb87a4f36e7de42e.jpg', 'name': ' Relaxed Short full Sleeve T-Shirt', 'price': '499.00', 'quantity': '1'}, \n",
    "    '6': {'color': 'light pink', 'discount': 10, 'image': '24c721da865ccd515987.jpg', 'name': ' Girls pnk Embro design Top', 'price': '399.00', 'quantity': '1'}, \n",
    "    '7': {'color': 'Black', 'discount': 0, 'image': '5547b2414fce71a0c50e.jpg', 'name': ' black floral wrap midi skirt', 'price': '299.00', 'quantity': '1'}, \n",
    "    '8': {'color': 'black', 'discount': 0, 'image': 'e36b1b5668248542ae4f.jpg', 'name': ' Pure Garment Dyed Cotton Shirt', 'price': '3500.00', 'quantity': '1'}, \n",
    "    '9': {'color': 'white', 'discount': 5, 'image': '0dd0ad9dbbd839890b33.jpg', 'name': 'Pure Garment Dyed Cotton jacket', 'price': '4000.00', 'quantity': '1'}}\n",
    "\n"
   ]
  },
  {
   "cell_type": "code",
   "execution_count": 3,
   "id": "eac4c0f2",
   "metadata": {},
   "outputs": [
    {
     "ename": "NameError",
     "evalue": "name 'Shoppingcart' is not defined",
     "output_type": "error",
     "traceback": [
      "\u001b[1;31m---------------------------------------------------------------------------\u001b[0m",
      "\u001b[1;31mNameError\u001b[0m                                 Traceback (most recent call last)",
      "Cell \u001b[1;32mIn [3], line 1\u001b[0m\n\u001b[1;32m----> 1\u001b[0m \u001b[38;5;28mprint\u001b[39m(\u001b[43mShoppingcart\u001b[49m[\u001b[38;5;124m'\u001b[39m\u001b[38;5;124m4\u001b[39m\u001b[38;5;124m'\u001b[39m])\n",
      "\u001b[1;31mNameError\u001b[0m: name 'Shoppingcart' is not defined"
     ]
    }
   ],
   "source": [
    "print(Shoppingcart['4'])"
   ]
  },
  {
   "cell_type": "markdown",
   "id": "380c0307",
   "metadata": {},
   "source": [
    "dict = {\n",
    "    'fmane':'haris',\n",
    "    'lname': 'rafik',\n",
    "    'sname':'sulliya',\n",
    "    'age':23,    \n",
    "}\n",
    "print(type(dict))"
   ]
  },
  {
   "cell_type": "code",
   "execution_count": 2,
   "id": "a551a44a",
   "metadata": {},
   "outputs": [
    {
     "name": "stdout",
     "output_type": "stream",
     "text": [
      "<class 'dict'>\n"
     ]
    }
   ],
   "source": [
    "dict = {}\n",
    "print(type(dict))"
   ]
  },
  {
   "cell_type": "code",
   "execution_count": 3,
   "id": "fafc3519",
   "metadata": {},
   "outputs": [
    {
     "name": "stdout",
     "output_type": "stream",
     "text": [
      "{'fmane': 'haris', 'lname': 'rafik', 'sname': 'sulliya', 'age': 23}\n"
     ]
    }
   ],
   "source": [
    "dict = {\n",
    "    'fmane':'haris',\n",
    "    'lname': 'rafik',\n",
    "    'sname':'sulliya',\n",
    "    'age':23,    \n",
    "}\n",
    "print(dict)"
   ]
  },
  {
   "cell_type": "code",
   "execution_count": 4,
   "id": "052e4fb0",
   "metadata": {},
   "outputs": [
    {
     "name": "stdout",
     "output_type": "stream",
     "text": [
      "sulliya\n"
     ]
    }
   ],
   "source": [
    "dict = {\n",
    "    'fmane':'haris',\n",
    "    'lname': 'rafik',\n",
    "    'sname':'sulliya',\n",
    "    'age':23,    \n",
    "}\n",
    "print(dict['sname'])"
   ]
  },
  {
   "cell_type": "code",
   "execution_count": 5,
   "id": "640efda8",
   "metadata": {},
   "outputs": [
    {
     "name": "stdout",
     "output_type": "stream",
     "text": [
      "fmane\n",
      "lname\n",
      "sname\n",
      "age\n"
     ]
    }
   ],
   "source": [
    "dict = {\n",
    "    'fmane':'haris',\n",
    "    'lname': 'rafik',\n",
    "    'sname':'sulliya',\n",
    "    'age':23,    \n",
    "}\n",
    "for i in dict:\n",
    "    print(i)"
   ]
  },
  {
   "cell_type": "code",
   "execution_count": 6,
   "id": "ab1e8185",
   "metadata": {},
   "outputs": [
    {
     "name": "stdout",
     "output_type": "stream",
     "text": [
      "haris\n",
      "rafik\n",
      "sulliya\n",
      "23\n"
     ]
    }
   ],
   "source": [
    "dict = {\n",
    "    'fmane':'haris',\n",
    "    'lname': 'rafik',\n",
    "    'sname':'sulliya',\n",
    "    'age':23,    \n",
    "}\n",
    "for i in dict.values():\n",
    "    print(i)"
   ]
  },
  {
   "cell_type": "code",
   "execution_count": 7,
   "id": "1d4ab306",
   "metadata": {},
   "outputs": [
    {
     "name": "stdout",
     "output_type": "stream",
     "text": [
      "('fmane', 'haris')\n",
      "('lname', 'rafik')\n",
      "('sname', 'sulliya')\n",
      "('age', 23)\n"
     ]
    }
   ],
   "source": [
    "dict = {\n",
    "    'fmane':'haris',\n",
    "    'lname': 'rafik',\n",
    "    'sname':'sulliya',\n",
    "    'age':23,    \n",
    "}\n",
    "for i in dict.items():\n",
    "    print(i)"
   ]
  },
  {
   "cell_type": "code",
   "execution_count": 8,
   "id": "961a8afc",
   "metadata": {},
   "outputs": [
    {
     "name": "stdout",
     "output_type": "stream",
     "text": [
      "{'fmane': 'haris', 'lname': 'rafik', 'sname': 'sulliya', 'age': 23, 'color': 'red'}\n"
     ]
    }
   ],
   "source": [
    "#add\n",
    "dict = {\n",
    "    'fmane':'haris',\n",
    "    'lname': 'rafik',\n",
    "    'sname':'sulliya',\n",
    "    'age':23,    \n",
    "}\n",
    "dict['color'] = 'red'\n",
    "print(dict)"
   ]
  },
  {
   "cell_type": "code",
   "execution_count": 9,
   "id": "e70ab4a6",
   "metadata": {},
   "outputs": [
    {
     "name": "stdout",
     "output_type": "stream",
     "text": [
      "{'fmane': 'haris', 'lname': 'rafik', 'sname': 'sulliya', 'age': 'red'}\n"
     ]
    }
   ],
   "source": [
    "#add\n",
    "dict = {\n",
    "    'fmane':'haris',\n",
    "    'lname': 'rafik',\n",
    "    'sname':'sulliya',\n",
    "    'age':23,    \n",
    "}\n",
    "dict['age'] = 'red'\n",
    "print(dict)"
   ]
  },
  {
   "cell_type": "code",
   "execution_count": 10,
   "id": "253dae4b",
   "metadata": {},
   "outputs": [
    {
     "name": "stdout",
     "output_type": "stream",
     "text": [
      "{'student': {'mane': 'haris', 'age': 23}, 'course': {'language': 'python', 'version': 3.11}, 'address': {'city': 'palanpur', 'state': 'gujrat', 'pincode': 385520}}\n",
      "\n",
      "haris\n",
      "23\n",
      "python\n",
      "3.11\n",
      "palanpur\n",
      "gujrat\n",
      "385520\n",
      "\n",
      "mane : haris\n",
      "age : 23\n",
      "language : python\n",
      "version : 3.11\n",
      "city : palanpur\n",
      "state : gujrat\n",
      "pincode : 385520\n"
     ]
    }
   ],
   "source": [
    "a = {'student':{},'course':{},'address':{}}\n",
    "\n",
    "b = {\n",
    "    'mane':'haris',\n",
    "    'age':23,    \n",
    "}\n",
    "a['student']=b\n",
    "\n",
    "c = {'language':'python',\n",
    "    'version': 3.11}\n",
    "\n",
    "d = {'city':'palanpur',\n",
    "    'state':'gujrat',\n",
    "    'pincode':385520\n",
    "    }\n",
    "a['course']=c\n",
    "a['address']=d\n",
    "print(a)\n",
    "print()\n",
    "\n",
    "for i in a.values():\n",
    "    for x in i.values():\n",
    "        print(x)\n",
    "\n",
    "print()\n",
    "for i in a.values():\n",
    "    for x in i.items():\n",
    "        print(x[0],':',x[1])\n",
    "        \n",
    "        "
   ]
  },
  {
   "cell_type": "code",
   "execution_count": null,
   "id": "9fb8c1ee",
   "metadata": {},
   "outputs": [],
   "source": []
  },
  {
   "cell_type": "code",
   "execution_count": 11,
   "id": "4889c508",
   "metadata": {},
   "outputs": [
    {
     "ename": "KeyboardInterrupt",
     "evalue": "Interrupted by user",
     "output_type": "error",
     "traceback": [
      "\u001b[1;31m---------------------------------------------------------------------------\u001b[0m",
      "\u001b[1;31mKeyboardInterrupt\u001b[0m                         Traceback (most recent call last)",
      "Cell \u001b[1;32mIn [11], line 1\u001b[0m\n\u001b[1;32m----> 1\u001b[0m year \u001b[38;5;241m=\u001b[39m \u001b[38;5;28mint\u001b[39m (\u001b[38;5;28;43minput\u001b[39;49m\u001b[43m \u001b[49m\u001b[43m(\u001b[49m\u001b[38;5;124;43m'\u001b[39;49m\u001b[38;5;124;43m“Enter any year that is to be checked for leap year: “\u001b[39;49m\u001b[38;5;124;43m'\u001b[39;49m\u001b[43m)\u001b[49m)\n\u001b[0;32m      3\u001b[0m \u001b[38;5;28;01mif\u001b[39;00m (year \u001b[38;5;241m%\u001b[39m \u001b[38;5;241m4\u001b[39m) \u001b[38;5;241m==\u001b[39m \u001b[38;5;241m0\u001b[39m:\n\u001b[0;32m      4\u001b[0m     \u001b[38;5;28;01mif\u001b[39;00m (year \u001b[38;5;241m%\u001b[39m \u001b[38;5;241m100\u001b[39m) \u001b[38;5;241m==\u001b[39m \u001b[38;5;241m0\u001b[39m \u001b[38;5;129;01mand\u001b[39;00m (year \u001b[38;5;241m%\u001b[39m \u001b[38;5;241m400\u001b[39m) \u001b[38;5;241m==\u001b[39m \u001b[38;5;241m0\u001b[39m:\n",
      "File \u001b[1;32mC:\\Python3.11\\Lib\\site-packages\\ipykernel\\kernelbase.py:1177\u001b[0m, in \u001b[0;36mKernel.raw_input\u001b[1;34m(self, prompt)\u001b[0m\n\u001b[0;32m   1173\u001b[0m \u001b[38;5;28;01mif\u001b[39;00m \u001b[38;5;129;01mnot\u001b[39;00m \u001b[38;5;28mself\u001b[39m\u001b[38;5;241m.\u001b[39m_allow_stdin:\n\u001b[0;32m   1174\u001b[0m     \u001b[38;5;28;01mraise\u001b[39;00m StdinNotImplementedError(\n\u001b[0;32m   1175\u001b[0m         \u001b[38;5;124m\"\u001b[39m\u001b[38;5;124mraw_input was called, but this frontend does not support input requests.\u001b[39m\u001b[38;5;124m\"\u001b[39m\n\u001b[0;32m   1176\u001b[0m     )\n\u001b[1;32m-> 1177\u001b[0m \u001b[38;5;28;01mreturn\u001b[39;00m \u001b[38;5;28;43mself\u001b[39;49m\u001b[38;5;241;43m.\u001b[39;49m\u001b[43m_input_request\u001b[49m\u001b[43m(\u001b[49m\n\u001b[0;32m   1178\u001b[0m \u001b[43m    \u001b[49m\u001b[38;5;28;43mstr\u001b[39;49m\u001b[43m(\u001b[49m\u001b[43mprompt\u001b[49m\u001b[43m)\u001b[49m\u001b[43m,\u001b[49m\n\u001b[0;32m   1179\u001b[0m \u001b[43m    \u001b[49m\u001b[38;5;28;43mself\u001b[39;49m\u001b[38;5;241;43m.\u001b[39;49m\u001b[43m_parent_ident\u001b[49m\u001b[43m[\u001b[49m\u001b[38;5;124;43m\"\u001b[39;49m\u001b[38;5;124;43mshell\u001b[39;49m\u001b[38;5;124;43m\"\u001b[39;49m\u001b[43m]\u001b[49m\u001b[43m,\u001b[49m\n\u001b[0;32m   1180\u001b[0m \u001b[43m    \u001b[49m\u001b[38;5;28;43mself\u001b[39;49m\u001b[38;5;241;43m.\u001b[39;49m\u001b[43mget_parent\u001b[49m\u001b[43m(\u001b[49m\u001b[38;5;124;43m\"\u001b[39;49m\u001b[38;5;124;43mshell\u001b[39;49m\u001b[38;5;124;43m\"\u001b[39;49m\u001b[43m)\u001b[49m\u001b[43m,\u001b[49m\n\u001b[0;32m   1181\u001b[0m \u001b[43m    \u001b[49m\u001b[43mpassword\u001b[49m\u001b[38;5;241;43m=\u001b[39;49m\u001b[38;5;28;43;01mFalse\u001b[39;49;00m\u001b[43m,\u001b[49m\n\u001b[0;32m   1182\u001b[0m \u001b[43m\u001b[49m\u001b[43m)\u001b[49m\n",
      "File \u001b[1;32mC:\\Python3.11\\Lib\\site-packages\\ipykernel\\kernelbase.py:1219\u001b[0m, in \u001b[0;36mKernel._input_request\u001b[1;34m(self, prompt, ident, parent, password)\u001b[0m\n\u001b[0;32m   1216\u001b[0m             \u001b[38;5;28;01mbreak\u001b[39;00m\n\u001b[0;32m   1217\u001b[0m \u001b[38;5;28;01mexcept\u001b[39;00m \u001b[38;5;167;01mKeyboardInterrupt\u001b[39;00m:\n\u001b[0;32m   1218\u001b[0m     \u001b[38;5;66;03m# re-raise KeyboardInterrupt, to truncate traceback\u001b[39;00m\n\u001b[1;32m-> 1219\u001b[0m     \u001b[38;5;28;01mraise\u001b[39;00m \u001b[38;5;167;01mKeyboardInterrupt\u001b[39;00m(\u001b[38;5;124m\"\u001b[39m\u001b[38;5;124mInterrupted by user\u001b[39m\u001b[38;5;124m\"\u001b[39m) \u001b[38;5;28;01mfrom\u001b[39;00m \u001b[38;5;28mNone\u001b[39m\n\u001b[0;32m   1220\u001b[0m \u001b[38;5;28;01mexcept\u001b[39;00m \u001b[38;5;167;01mException\u001b[39;00m:\n\u001b[0;32m   1221\u001b[0m     \u001b[38;5;28mself\u001b[39m\u001b[38;5;241m.\u001b[39mlog\u001b[38;5;241m.\u001b[39mwarning(\u001b[38;5;124m\"\u001b[39m\u001b[38;5;124mInvalid Message:\u001b[39m\u001b[38;5;124m\"\u001b[39m, exc_info\u001b[38;5;241m=\u001b[39m\u001b[38;5;28;01mTrue\u001b[39;00m)\n",
      "\u001b[1;31mKeyboardInterrupt\u001b[0m: Interrupted by user"
     ]
    }
   ],
   "source": [
    "                    \n",
    "year = int (input ('“Enter any year that is to be checked for leap year: “'))\n",
    "\n",
    "if (year % 4) == 0:\n",
    "    if (year % 100) == 0 and (year % 400) == 0:\n",
    "            print ('“The given year is a leap year”')\n",
    "    else:\n",
    "        print ('“It is not a leap year”')\n",
    "else:     \n",
    "    print ('“It is not a leap year”')                "
   ]
  },
  {
   "cell_type": "code",
   "execution_count": null,
   "id": "bc9e7453",
   "metadata": {},
   "outputs": [],
   "source": [
    "list_of_strings = ['bobby', 'hadz', '.com']\n",
    "\n",
    "# ✅ Print list of strings without spaces\n",
    "result = ''.join(list_of_strings)\n",
    "print(result)  # bobbyhadz.com\n",
    "\n",
    "result = ','.join(list_of_strings)\n",
    "print(result) # 👉️ bobby,hadz,.com\n",
    "# ---------------------------------------------\n",
    "\n",
    "# ✅ Print list of numbers without spaces\n",
    "list_of_numbers = [44, 22, 88]\n",
    "\n",
    "result = ''.join(str(item) for item in list_of_numbers)\n",
    "print(result)  # 👉️ 442288\n"
   ]
  },
  {
   "cell_type": "code",
   "execution_count": null,
   "id": "d7f48b64",
   "metadata": {},
   "outputs": [],
   "source": [
    "n = int(input())\n",
    "resu = ''.join(str(item) for item in range(1,n+1))\n",
    "print(resu)"
   ]
  },
  {
   "cell_type": "code",
   "execution_count": null,
   "id": "705d742e",
   "metadata": {},
   "outputs": [],
   "source": [
    "English = {'1','2','5','7','9','12','15','10','80','110000'}\n",
    "Franch = {'2','3','4','5','6','7','80','110000','12'}\n",
    "a = English.intersection(Franch)\n",
    "print(a)\n",
    "print(len(a))"
   ]
  },
  {
   "cell_type": "code",
   "execution_count": null,
   "id": "21aa6571",
   "metadata": {},
   "outputs": [],
   "source": [
    "# join two list in dictionary\n",
    "ages = ['23', '28', '26', '21']\n",
    "names = ['Haris', 'Huzaifa', 'Hanjala', 'Mohammad']\n",
    "nameagedict = {}\n",
    "x =0\n",
    "for eachname in names:\n",
    "    nameagedict[eachname]=ages[x]\n",
    "    x+=1\n",
    "    \n",
    "nameagedict"
   ]
  },
  {
   "cell_type": "code",
   "execution_count": null,
   "id": "18137529",
   "metadata": {},
   "outputs": [],
   "source": [
    "# key_value {2: 56, 1: 2, 5: 12, 4: 24, 6: 18, 3: 323}\n",
    "#output 1 2 3 4 5 6\n",
    "\n",
    "key_find = {'2': 56, '1': 2, '5': 12, '4': 24, '6': 18, '3': 323}\n",
    "x = []\n",
    "for i in key_find.keys():\n",
    "  x.append(i)\n",
    "  x.sort()\n",
    "print('  '.join(x))\n"
   ]
  },
  {
   "cell_type": "code",
   "execution_count": null,
   "id": "74e6fd21",
   "metadata": {},
   "outputs": [],
   "source": [
    "# dict = {'ravi': '10', 'rajnish': '9','sanjeev': '15', 'yash': '2', 'suraj': '32'}\n",
    "#([('rajnish', '9'), ('ravi', '10'), ('sanjeev', '15'), ('suraj', '32'), ('yash', '2')])\n",
    "\n",
    "dict = {'ravi': '10', 'rajnish': '9','sanjeev': '15', 'yash': '2', 'suraj': '32'}C\n",
    "\n",
    "em_dict = []\n",
    "for i in dict.values():\n",
    "  em_dict.append(i)\n",
    "em_dict.sort()\n",
    "print(em_dict)"
   ]
  },
  {
   "cell_type": "code",
   "execution_count": null,
   "id": "674ef8bf",
   "metadata": {},
   "outputs": [],
   "source": [
    "key_value = {}\n",
    "key_value[2] = 56\n",
    "key_value[1] = 2\n",
    "key_value[5] = 12\n",
    "key_value[4] = 24\n",
    "key_value[6] = 18\n",
    "key_value[3] = 323\n",
    "print(key_value)\n",
    "#output (1, 2) (2, 56) (3, 323) (4, 24) (5, 12) (6, 18)\n",
    "\n",
    "em_dict = []\n",
    "for i in key_value.items():\n",
    "  em_dict.append(i)\n",
    "em_dict.sort()\n",
    "print(em_dict)\n",
    "print(em_dict[1])"
   ]
  },
  {
   "cell_type": "code",
   "execution_count": 9,
   "id": "8ec2e6d0",
   "metadata": {},
   "outputs": [
    {
     "name": "stdout",
     "output_type": "stream",
     "text": [
      "('umar', 12)\n",
      "[('ravi', '10'), ('umar', 12), ('rajnish', '9'), ('sanjeev', '15'), ('yash', '2'), ('suraj', '32')]\n"
     ]
    },
    {
     "data": {
      "text/plain": [
       "{'ravi': '10',\n",
       " 'haris': 50,\n",
       " 'rajnish': '9',\n",
       " 'sanjeev': '15',\n",
       " 'yash': '2',\n",
       " 'suraj': '32'}"
      ]
     },
     "execution_count": 9,
     "metadata": {},
     "output_type": "execute_result"
    }
   ],
   "source": [
    "dict1 = {'ravi': '10', 'rajnish': '9','sanjeev': '15', 'yash': '2', 'suraj': '32'}\n",
    "sempale = {'umar':12}\n",
    "em_dict = []\n",
    "for x in sempale.items():\n",
    "    print(x)\n",
    "    \n",
    "for i in dict1.items():\n",
    "    em_dict.append(i)\n",
    "em_dict.insert(1,x)\n",
    "dict1 = dict(items)\n",
    "dict1\n"
   ]
  },
  {
   "cell_type": "code",
   "execution_count": 8,
   "id": "36d62b2b",
   "metadata": {},
   "outputs": [
    {
     "data": {
      "text/plain": [
       "{'ravi': '10',\n",
       " 'haris': 50,\n",
       " 'rajnish': '9',\n",
       " 'sanjeev': '15',\n",
       " 'yash': '2',\n",
       " 'suraj': '32'}"
      ]
     },
     "execution_count": 8,
     "metadata": {},
     "output_type": "execute_result"
    }
   ],
   "source": [
    "dict1 = {'ravi': '10', 'rajnish': '9','sanjeev': '15', 'yash': '2', 'suraj': '32'}\n",
    "ind = list(dict1.keys()).index('rajnish')\n",
    "items = list(dict1.items())\n",
    "items.insert(ind, ('haris',50))\n",
    "dict1 = dict(items)\n",
    "dict1"
   ]
  },
  {
   "cell_type": "code",
   "execution_count": 5,
   "id": "9df6b469",
   "metadata": {},
   "outputs": [
    {
     "data": {
      "text/plain": [
       "{'i': 9, 'c': 3, 'b': 2, 'd': 4, 'a': 1, 'f': 6}"
      ]
     },
     "execution_count": 5,
     "metadata": {},
     "output_type": "execute_result"
    }
   ],
   "source": [
    "dic = {'i':9, 'b':2, 'd':4, 'a':1, 'f':6}\n",
    "pos = list(dic.keys()).index('b')\n",
    "items = list(dic.items())\n",
    "items.insert(pos, ('c',3))\n",
    "dic = dict(items)\n",
    "dic"
   ]
  },
  {
   "cell_type": "code",
   "execution_count": 7,
   "id": "f4b3fcd9",
   "metadata": {},
   "outputs": [
    {
     "data": {
      "text/plain": [
       "{'ravi': '10',\n",
       " 'c': 3,\n",
       " 'rajnish': '9',\n",
       " 'sanjeev': '15',\n",
       " 'yash': '2',\n",
       " 'suraj': '32'}"
      ]
     },
     "execution_count": 7,
     "metadata": {},
     "output_type": "execute_result"
    }
   ],
   "source": [
    "dic = {'ravi': '10', 'rajnish': '9','sanjeev': '15', 'yash': '2', 'suraj': '32'}\n",
    "pos = list(dic.keys()).index('rajnish')\n",
    "items = list(dic.items())\n",
    "items.insert(pos, ('c',3))\n",
    "dic = dict(items)\n",
    "dic"
   ]
  },
  {
   "cell_type": "code",
   "execution_count": null,
   "id": "9c1a5a19",
   "metadata": {},
   "outputs": [],
   "source": []
  }
 ],
 "metadata": {
  "kernelspec": {
   "display_name": "Python 3 (ipykernel)",
   "language": "python",
   "name": "python3"
  },
  "language_info": {
   "codemirror_mode": {
    "name": "ipython",
    "version": 3
   },
   "file_extension": ".py",
   "mimetype": "text/x-python",
   "name": "python",
   "nbconvert_exporter": "python",
   "pygments_lexer": "ipython3",
   "version": "3.11.0"
  }
 },
 "nbformat": 4,
 "nbformat_minor": 5
}

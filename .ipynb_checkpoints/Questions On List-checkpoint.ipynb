{
 "cells": [
  {
   "cell_type": "code",
   "execution_count": 33,
   "id": "925f768b",
   "metadata": {},
   "outputs": [
    {
     "name": "stdout",
     "output_type": "stream",
     "text": [
      "['Banana', 'Mango', 'Guava', 'Pineapple', 'papaya']\n",
      "\n",
      "[1, 3, 5, 7, 9, 11, 13, 15, 17, 19, 21, 23, 25, 27, 29, 31, 33, 35, 37, 39]\n",
      "\n",
      "[2000, 2004, 2008, 2012, 2016, 2020]\n",
      "\n",
      "[3, 6, 9, 12, 15, 18, 21, 24, 27, 30]\n",
      "\n",
      "['g', 'e', 'e', 'k', ' ', 'f', 'o', 'r', ' ', 'g', 'e', 'e', 'k', 's']\n"
     ]
    }
   ],
   "source": [
    "#1.To create 5 different list using list comprehension method.‎\n",
    "\n",
    "list1 = ['Apple', 'Banana', 'Cherry', 'Mango', 'Guava', 'Pineapple', 'papaya']\n",
    "newlist = [x for x in list1 if 'a' in x]\n",
    "\n",
    "newlist1 = [x for x in range(1, 40) if x%2]\n",
    "\n",
    "newlist2 = [x for x in range(1999, 2021) if x % 4 == 0]\n",
    "\n",
    "newlist3 = [x*3 for x in range(1, 11)]\n",
    "\n",
    "newlist4 = [x for x in 'geek for geeks']\n",
    "\n",
    "\n",
    "print(newlist)\n",
    "print()\n",
    "print(newlist1)\n",
    "print()\n",
    "print(newlist2)\n",
    "print()\n",
    "print(newlist3)\n",
    "print()\n",
    "print(newlist4)"
   ]
  },
  {
   "cell_type": "code",
   "execution_count": 39,
   "id": "635c3e84",
   "metadata": {},
   "outputs": [
    {
     "name": "stdout",
     "output_type": "stream",
     "text": [
      "520\n"
     ]
    }
   ],
   "source": [
    "#‎2.Create list , add random 10 numbers in list and print largest number of list.\n",
    "\n",
    "numli = [5,8,87,45,30,2,100,120,200,520]\n",
    "numli.sort()\n",
    "print(numli[-1])"
   ]
  },
  {
   "cell_type": "code",
   "execution_count": 42,
   "id": "730fc042",
   "metadata": {},
   "outputs": [
    {
     "name": "stdout",
     "output_type": "stream",
     "text": [
      "50\n",
      "No\n"
     ]
    }
   ],
   "source": [
    "#‎3.To check whether a given number is present in list or not?‎\n",
    "numli = [5,8,87,45,30,2,100,120,200,520]\n",
    "a = int(input())\n",
    "\n",
    "if a in numli:\n",
    "    print('yes')\n",
    "else:\n",
    "    print('No')"
   ]
  },
  {
   "cell_type": "code",
   "execution_count": 9,
   "id": "d52fcfb7",
   "metadata": {},
   "outputs": [],
   "source": [
    "#‎4.To demonstrate any 10 methods of List‎\n",
    "len() #To chack length\n",
    "in chack\n",
    "insert() #to add by indexing\n",
    "append() #to insert a singal and multiple value in the list on one index\n",
    "extend() #to insert a singal and multipal value in the list on diffrent index\n",
    "remove() #to remove with vaule\n",
    "pop() #to remove by index and last\n",
    "del # to delete\n",
    "clear() #to clear(to empties a list)\n",
    "sort()\n",
    "sort(reverse = True)\n",
    "sort(key = str.lower)\n",
    "reverse()\n",
    "copy()\n",
    "join()"
   ]
  },
  {
   "cell_type": "code",
   "execution_count": 10,
   "id": "50ba28f9",
   "metadata": {},
   "outputs": [],
   "source": [
    "#‎5.To add two list [ adding elements of list\n",
    "\n",
    "list1 = ['Apple', 'Banana', 'Pineapple', 'papaya']\n",
    "list.extend(['Cherry', 'Mango', 'Guava'])"
   ]
  },
  {
   "cell_type": "code",
   "execution_count": 11,
   "id": "eae0907c",
   "metadata": {},
   "outputs": [],
   "source": [
    "#‎6.To implement a stack using a list"
   ]
  },
  {
   "cell_type": "code",
   "execution_count": 12,
   "id": "f9616547",
   "metadata": {},
   "outputs": [],
   "source": [
    "#‎7.To sort a given number list in ascending order using functions.‎"
   ]
  },
  {
   "cell_type": "code",
   "execution_count": null,
   "id": "19f7c81e",
   "metadata": {},
   "outputs": [],
   "source": []
  }
 ],
 "metadata": {
  "kernelspec": {
   "display_name": "Python 3 (ipykernel)",
   "language": "python",
   "name": "python3"
  },
  "language_info": {
   "codemirror_mode": {
    "name": "ipython",
    "version": 3
   },
   "file_extension": ".py",
   "mimetype": "text/x-python",
   "name": "python",
   "nbconvert_exporter": "python",
   "pygments_lexer": "ipython3",
   "version": "3.11.0"
  }
 },
 "nbformat": 4,
 "nbformat_minor": 5
}

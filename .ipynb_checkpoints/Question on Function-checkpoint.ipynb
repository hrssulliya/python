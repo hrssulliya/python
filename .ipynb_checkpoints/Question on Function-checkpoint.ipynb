{
 "cells": [
  {
   "cell_type": "code",
   "execution_count": 21,
   "id": "62e5acf7",
   "metadata": {},
   "outputs": [
    {
     "name": "stdout",
     "output_type": "stream",
     "text": [
      "450\n"
     ]
    }
   ],
   "source": [
    "#‎1.Write a Python function to find the Max of three numbers.‎\n",
    "\n",
    "def maximum(a,b,c):\n",
    "    \n",
    "    if a >= b and a >= c:\n",
    "        largest = a\n",
    "        \n",
    "    elif b >= a and b >= c:\n",
    "        largest = b\n",
    "        \n",
    "    else: \n",
    "        largest = c\n",
    "        \n",
    "    return largest\n",
    "    \n",
    "\n",
    "a = 55\n",
    "b = 450\n",
    "c = 50\n",
    "print(maximum(a,b,c))"
   ]
  },
  {
   "cell_type": "code",
   "execution_count": 28,
   "id": "1bfb3c4d",
   "metadata": {
    "scrolled": true
   },
   "outputs": [
    {
     "name": "stdout",
     "output_type": "stream",
     "text": [
      "Enter the first Number45\n",
      "Enter the symbol+\n",
      "Enter the second Number5\n",
      "50\n"
     ]
    }
   ],
   "source": [
    "#‎2.Define a function that accepts 2 values and return its sum, subtraction ‎and multiplication..‎\n",
    "\n",
    "x = int(input('Enter the first Number'))\n",
    "y = input('Enter the symbol')\n",
    "z = int(input('Enter the second Number'))\n",
    "def result():\n",
    "    if y == '+':\n",
    "        print(x + z)\n",
    "    elif y == '-':\n",
    "        print(x - z)\n",
    "    elif y == '*':\n",
    "        print(x * z)\n",
    "    else:\n",
    "        print(x / z)\n",
    "result() "
   ]
  },
  {
   "cell_type": "code",
   "execution_count": 31,
   "id": "a339d337",
   "metadata": {},
   "outputs": [
    {
     "name": "stdout",
     "output_type": "stream",
     "text": [
      "336\n"
     ]
    }
   ],
   "source": [
    "#‎3.Write a Python function to multiply all the numbers in a list.‎\n",
    "\n",
    "a = [8, 2, 3, 1, 7]\n",
    "def multiply(numbers):  \n",
    "    total = 1\n",
    "    for x in numbers:\n",
    "        total *= x  \n",
    "    return total  \n",
    "print(multiply(a))\n"
   ]
  },
  {
   "cell_type": "code",
   "execution_count": 39,
   "id": "fa3800b4",
   "metadata": {},
   "outputs": [],
   "source": [
    "#‎4.Write a Python function to calculate the factorial of a number (a non-negative integer). The function accepts the number as an argument\n",
    "def calculate(m):\n",
    "    a = 1\n",
    "    for x in range(1, a+1):\n",
    "        return m * x\n",
    "d = calculate(5)"
   ]
  },
  {
   "cell_type": "code",
   "execution_count": 5,
   "id": "9001c25f",
   "metadata": {},
   "outputs": [],
   "source": [
    "#5.Write a Python function to create and print a list where the values are square of numbers between 1 and 30 (both included)."
   ]
  },
  {
   "cell_type": "code",
   "execution_count": 6,
   "id": "0661bb92",
   "metadata": {},
   "outputs": [],
   "source": [
    "#6.Write a Python function that accepts a string and calculate the number of upper case letters and lower case letters"
   ]
  },
  {
   "cell_type": "code",
   "execution_count": 7,
   "id": "c24cda8e",
   "metadata": {},
   "outputs": [],
   "source": [
    "#7.Define a function that accepts roll number and returns whether the student is present or absent."
   ]
  },
  {
   "cell_type": "code",
   "execution_count": 8,
   "id": "57023c6a",
   "metadata": {},
   "outputs": [],
   "source": [
    "#8.Define a function which counts vowels and consonant in a word."
   ]
  },
  {
   "cell_type": "markdown",
   "id": "08adbb11",
   "metadata": {},
   "source": []
  }
 ],
 "metadata": {
  "kernelspec": {
   "display_name": "Python 3 (ipykernel)",
   "language": "python",
   "name": "python3"
  },
  "language_info": {
   "codemirror_mode": {
    "name": "ipython",
    "version": 3
   },
   "file_extension": ".py",
   "mimetype": "text/x-python",
   "name": "python",
   "nbconvert_exporter": "python",
   "pygments_lexer": "ipython3",
   "version": "3.11.0"
  }
 },
 "nbformat": 4,
 "nbformat_minor": 5
}

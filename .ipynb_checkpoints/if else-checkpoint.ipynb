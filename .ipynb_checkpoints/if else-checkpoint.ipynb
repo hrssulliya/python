{
 "cells": [
  {
   "cell_type": "code",
   "execution_count": 11,
   "id": "d50f9b3f",
   "metadata": {},
   "outputs": [
    {
     "name": "stdout",
     "output_type": "stream",
     "text": [
      "b is greater then a\n"
     ]
    }
   ],
   "source": [
    "a = 50\n",
    "b = 55\n",
    "if a < b:\n",
    "    print('b is greater then a')\n",
    "else:\n",
    "    print('a is geater then b')"
   ]
  },
  {
   "cell_type": "code",
   "execution_count": 7,
   "id": "1d6ad43b",
   "metadata": {},
   "outputs": [
    {
     "name": "stdout",
     "output_type": "stream",
     "text": [
      "b is greater than a\n"
     ]
    }
   ],
   "source": [
    "a = 200\n",
    "b = 330\n",
    "if b > a:\n",
    "  print(\"b is greater than a\")\n",
    "else:\n",
    "  print(\"b is not greater than a\")"
   ]
  },
  {
   "cell_type": "code",
   "execution_count": 18,
   "id": "306181ec",
   "metadata": {},
   "outputs": [
    {
     "name": "stdout",
     "output_type": "stream",
     "text": [
      "100\n",
      "You are merit\n"
     ]
    }
   ],
   "source": [
    "a  = int(input())\n",
    "if a >= 80 and a <= 100:\n",
    "    print('You are merit')\n",
    "elif a >= 60 and a < 80:\n",
    "    print('You are Ist rank')\n",
    "elif a >= 50 and a < 60:\n",
    "    print('You are IInd rank')\n",
    "elif a >= 35 and a < 50:\n",
    "    print('You are IIIrd rank')\n",
    "elif a < 35:\n",
    "    print('You are fail') \n",
    "else:\n",
    "    print('Enter valid number')"
   ]
  },
  {
   "cell_type": "code",
   "execution_count": 28,
   "id": "f78344f2",
   "metadata": {},
   "outputs": [
    {
     "name": "stdout",
     "output_type": "stream",
     "text": [
      "66\n",
      "66 :is even number\n"
     ]
    }
   ],
   "source": [
    "#odd and even\n",
    "a = int(input())\n",
    "if a % 2:\n",
    "    print(a,\":is odd number\")\n",
    "else:\n",
    "    print(a, ':is even number')"
   ]
  },
  {
   "cell_type": "code",
   "execution_count": 30,
   "id": "10893480",
   "metadata": {},
   "outputs": [
    {
     "name": "stdout",
     "output_type": "stream",
     "text": [
      "2022\n",
      "2022 :is not a leap year\n"
     ]
    }
   ],
   "source": [
    "#leap year\n",
    "a = int(input())\n",
    "if a % 4:\n",
    "    print(a,\":is not a leap year\")\n",
    "else:\n",
    "    print(a, ':is leap year')"
   ]
  },
  {
   "cell_type": "code",
   "execution_count": null,
   "id": "d3d5f2fe",
   "metadata": {},
   "outputs": [],
   "source": []
  }
 ],
 "metadata": {
  "kernelspec": {
   "display_name": "Python 3 (ipykernel)",
   "language": "python",
   "name": "python3"
  },
  "language_info": {
   "codemirror_mode": {
    "name": "ipython",
    "version": 3
   },
   "file_extension": ".py",
   "mimetype": "text/x-python",
   "name": "python",
   "nbconvert_exporter": "python",
   "pygments_lexer": "ipython3",
   "version": "3.11.0"
  }
 },
 "nbformat": 4,
 "nbformat_minor": 5
}

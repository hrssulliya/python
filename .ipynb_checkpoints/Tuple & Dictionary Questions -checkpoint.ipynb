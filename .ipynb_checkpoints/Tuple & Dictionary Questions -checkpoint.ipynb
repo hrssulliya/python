{
 "cells": [
  {
   "cell_type": "code",
   "execution_count": 17,
   "id": "1ebd8667",
   "metadata": {},
   "outputs": [
    {
     "name": "stdout",
     "output_type": "stream",
     "text": [
      "(1, 2, 3, 4, 5, 6, 7, 8, 9, 10)\n",
      "(11, 12, 13, 14, 15, 16, 17, 18, 19, 20)\n"
     ]
    }
   ],
   "source": [
    "#1.To create a tuple having a number from 1-20. Print the half of its value in 1 line and other half in next line.\n",
    "tup = (1,2,3,4,5,6,7,8,9,10,11,12,13,14,15,16,17,18,19,20)\n",
    "tup1 = tup[:10]\n",
    "tup2 = tup[10:]\n",
    "print(tup1)\n",
    "print(tup2)"
   ]
  },
  {
   "cell_type": "code",
   "execution_count": 38,
   "id": "100c30b2",
   "metadata": {},
   "outputs": [
    {
     "name": "stdout",
     "output_type": "stream",
     "text": [
      "Enter the tuple : 20\n",
      "(20,)\n"
     ]
    }
   ],
   "source": [
    "#2.To create a tuple consisting of 20 number from a user. Create another tuple whose values are even number in the first tuple.‎\n",
    "while "
   ]
  },
  {
   "cell_type": "code",
   "execution_count": 40,
   "id": "b9a080a9",
   "metadata": {},
   "outputs": [
    {
     "name": "stdout",
     "output_type": "stream",
     "text": [
      "('Apple', 'Banana', 'Cherry', 'papaya', 'Mango', 'Guava', 'Pineapple')\n"
     ]
    }
   ],
   "source": [
    "#3.To concatenate two tuples .\n",
    "tup = ('Apple', 'Banana', 'Cherry','papaya')\n",
    "tup1 = ('Mango', 'Guava', 'Pineapple')\n",
    "\n",
    "tup3 = tup + tup1\n",
    "print(tup3)"
   ]
  },
  {
   "cell_type": "code",
   "execution_count": 44,
   "id": "652c41e4",
   "metadata": {},
   "outputs": [
    {
     "name": "stdout",
     "output_type": "stream",
     "text": [
      "Apple\n",
      "yes\n"
     ]
    }
   ],
   "source": [
    "#4.To check whether a given element is present in tuple or not .\n",
    "\n",
    "tupli = ('Apple', 'Banana', 'Cherry','papaya','Mango', 'Guava', 'Pineapple')\n",
    "a = input()\n",
    "\n",
    "if a in tupli:\n",
    "    print('yes')\n",
    "else:\n",
    "    print('No')"
   ]
  },
  {
   "cell_type": "code",
   "execution_count": 49,
   "id": "64c1f705",
   "metadata": {},
   "outputs": [
    {
     "name": "stdout",
     "output_type": "stream",
     "text": [
      "[('m', 'y'), ('vill', 'age'), ('i', 's'), ('be', 'st')]\n"
     ]
    }
   ],
   "source": [
    "#5.To use the following methods on a tuple in the program: cmp(t1,t2)/t1==t2 ,len(t1) , zip(t1,t2) , max(t) , min(t) , tuple()‎\n",
    "\n",
    "tup1 = ('m', 'vill', 'i' , 'be')\n",
    "tup2 = ('y', 'age', 's' , 'st')\n",
    "\n",
    "x = zip(tup1, tup2)\n",
    "print(tuple(x))"
   ]
  },
  {
   "cell_type": "code",
   "execution_count": 6,
   "id": "b7c76c40",
   "metadata": {},
   "outputs": [],
   "source": [
    "#6.To create a dictionary with any five key value pair . print the dictionary . Add an element in a given dictionary and delete an element\n"
   ]
  },
  {
   "cell_type": "code",
   "execution_count": 7,
   "id": "b8ebcec7",
   "metadata": {},
   "outputs": [],
   "source": [
    "#7.To create 2 dictionaries using dictionary comprehension method."
   ]
  },
  {
   "cell_type": "code",
   "execution_count": 8,
   "id": "aaacaba1",
   "metadata": {},
   "outputs": [],
   "source": [
    "#8.To demonstrate any five methods on dictionary"
   ]
  },
  {
   "cell_type": "code",
   "execution_count": 9,
   "id": "bf1e71f0",
   "metadata": {},
   "outputs": [],
   "source": [
    "#9.To demonstrate 5 methods of python data structure set ."
   ]
  },
  {
   "cell_type": "code",
   "execution_count": null,
   "id": "758d3ea2",
   "metadata": {},
   "outputs": [],
   "source": [
    "#10.To implement caser cipher using dictionary"
   ]
  }
 ],
 "metadata": {
  "kernelspec": {
   "display_name": "Python 3 (ipykernel)",
   "language": "python",
   "name": "python3"
  },
  "language_info": {
   "codemirror_mode": {
    "name": "ipython",
    "version": 3
   },
   "file_extension": ".py",
   "mimetype": "text/x-python",
   "name": "python",
   "nbconvert_exporter": "python",
   "pygments_lexer": "ipython3",
   "version": "3.11.0"
  }
 },
 "nbformat": 4,
 "nbformat_minor": 5
}

{
 "cells": [
  {
   "cell_type": "code",
   "execution_count": 1,
   "id": "ca7cfd8b",
   "metadata": {},
   "outputs": [
    {
     "name": "stdout",
     "output_type": "stream",
     "text": [
      "('apple', 'banana', 'cherry', 'guava')\n"
     ]
    }
   ],
   "source": [
    "tuple = ('apple', 'banana', 'cherry', 'guava')\n",
    "print(tuple)"
   ]
  },
  {
   "cell_type": "code",
   "execution_count": 4,
   "id": "e62321ae",
   "metadata": {},
   "outputs": [
    {
     "name": "stdout",
     "output_type": "stream",
     "text": [
      "('apple',)\n"
     ]
    }
   ],
   "source": [
    "tuple = ('apple',)\n",
    "print(tuple)"
   ]
  },
  {
   "cell_type": "code",
   "execution_count": 5,
   "id": "7bfcc7ec",
   "metadata": {},
   "outputs": [
    {
     "name": "stdout",
     "output_type": "stream",
     "text": [
      "4\n"
     ]
    }
   ],
   "source": [
    "tuple = ('apple', 'banana', 'cherry', 'guava')\n",
    "print(len(tuple))"
   ]
  },
  {
   "cell_type": "code",
   "execution_count": 6,
   "id": "a04007e0",
   "metadata": {},
   "outputs": [
    {
     "name": "stdout",
     "output_type": "stream",
     "text": [
      "guava\n"
     ]
    }
   ],
   "source": [
    "tuple = ('apple', 'banana', 'cherry', 'guava')\n",
    "print(tuple[3])"
   ]
  },
  {
   "cell_type": "code",
   "execution_count": 1,
   "id": "5659df0f",
   "metadata": {},
   "outputs": [
    {
     "name": "stdout",
     "output_type": "stream",
     "text": [
      "('apple', 'banana')\n"
     ]
    }
   ],
   "source": [
    "tuple = ('apple', 'banana', 'cherry', 'guava')\n",
    "print(tuple[:2])"
   ]
  },
  {
   "cell_type": "code",
   "execution_count": 2,
   "id": "7d59fa1f",
   "metadata": {},
   "outputs": [
    {
     "name": "stdout",
     "output_type": "stream",
     "text": [
      "yes\n"
     ]
    }
   ],
   "source": [
    "tuple = ('apple', 'banana', 'cherry', 'guava')\n",
    "if 'apple' in tuple:\n",
    "    print(\"yes\")"
   ]
  },
  {
   "cell_type": "code",
   "execution_count": 3,
   "id": "074b3d1b",
   "metadata": {},
   "outputs": [
    {
     "name": "stdout",
     "output_type": "stream",
     "text": [
      "apple\n",
      "banana\n",
      "cherry\n"
     ]
    }
   ],
   "source": [
    "#loop\n",
    "tuple = ('apple','banana','cherry')\n",
    "for i in tuple:\n",
    "    print(i)"
   ]
  },
  {
   "cell_type": "code",
   "execution_count": 7,
   "id": "540c7838",
   "metadata": {},
   "outputs": [
    {
     "name": "stdout",
     "output_type": "stream",
     "text": [
      "['banana', 'cherry']\n"
     ]
    }
   ],
   "source": [
    "tuple = ('apple','banana','cherry')\n",
    "x,*y = tuple\n",
    "print(y)"
   ]
  },
  {
   "cell_type": "code",
   "execution_count": null,
   "id": "85d9f9b7",
   "metadata": {},
   "outputs": [],
   "source": []
  }
 ],
 "metadata": {
  "kernelspec": {
   "display_name": "Python 3 (ipykernel)",
   "language": "python",
   "name": "python3"
  },
  "language_info": {
   "codemirror_mode": {
    "name": "ipython",
    "version": 3
   },
   "file_extension": ".py",
   "mimetype": "text/x-python",
   "name": "python",
   "nbconvert_exporter": "python",
   "pygments_lexer": "ipython3",
   "version": "3.11.0"
  }
 },
 "nbformat": 4,
 "nbformat_minor": 5
}

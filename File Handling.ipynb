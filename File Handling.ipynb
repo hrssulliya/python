{
 "cells": [
  {
   "cell_type": "code",
   "execution_count": 8,
   "id": "08f9b6ec",
   "metadata": {},
   "outputs": [
    {
     "ename": "SyntaxError",
     "evalue": "(unicode error) 'unicodeescape' codec can't decode bytes in position 17-18: malformed \\N character escape (3975963432.py, line 4)",
     "output_type": "error",
     "traceback": [
      "\u001b[1;36m  Cell \u001b[1;32mIn [8], line 4\u001b[1;36m\u001b[0m\n\u001b[1;33m    file_object = open('D:\\excel tamplate\\Normal.docx', mode='x')\u001b[0m\n\u001b[1;37m                                                      ^\u001b[0m\n\u001b[1;31mSyntaxError\u001b[0m\u001b[1;31m:\u001b[0m (unicode error) 'unicodeescape' codec can't decode bytes in position 17-18: malformed \\N character escape\n"
     ]
    }
   ],
   "source": [
    "#Create a new empty text file at relative path\n",
    "file_object = open('Normal.xlsx','x')\n",
    "file_object.close()"
   ]
  },
  {
   "cell_type": "code",
   "execution_count": 4,
   "id": "1e578e4e",
   "metadata": {},
   "outputs": [],
   "source": [
    "#if you want to write in file\n",
    "file_object = open('for trening.docx','w')\n",
    "file_object.write('Haris')\n",
    "file_object.close()"
   ]
  },
  {
   "cell_type": "code",
   "execution_count": 10,
   "id": "74a277ef",
   "metadata": {},
   "outputs": [
    {
     "data": {
      "text/plain": [
       "71"
      ]
     },
     "execution_count": 10,
     "metadata": {},
     "output_type": "execute_result"
    }
   ],
   "source": [
    "file_object = open(r'D:\\excel tamplate\\proof.txt', 'a')\n",
    "file_object.write('Welcome Haris rafik suleman sulliya changavada Banaskantha, gujrat hind')"
   ]
  },
  {
   "cell_type": "code",
   "execution_count": 25,
   "id": "ab136735",
   "metadata": {},
   "outputs": [],
   "source": [
    "##Create a new empty text file at absolute path\n",
    "file_object = open(r'D:\\excel tamplate\\Normal.docx','w')\n",
    "file_object.write('Welcome Haris rafik suleman sulliya changavada')\n",
    "file_object.close()"
   ]
  },
  {
   "cell_type": "code",
   "execution_count": 30,
   "id": "99c6b336",
   "metadata": {},
   "outputs": [
    {
     "data": {
      "text/plain": [
       "71"
      ]
     },
     "execution_count": 30,
     "metadata": {},
     "output_type": "execute_result"
    }
   ],
   "source": [
    "file_object = open(r'D:\\excel tamplate\\profit.txt', 'w')\n",
    "file_object.write('Welcome Haris rafik suleman sulliya changavada Banaskantha, gujrat hind')"
   ]
  },
  {
   "cell_type": "code",
   "execution_count": 21,
   "id": "8535798f",
   "metadata": {},
   "outputs": [
    {
     "name": "stdout",
     "output_type": "stream",
     "text": [
      "Enter your Namejuned\n",
      "Enter your Age48\n"
     ]
    }
   ],
   "source": [
    "Name = input('Enter your Name')\n",
    "age = input('Enter your Age')\n",
    "fp = open('Data.txt','a')\n",
    "fp.write(f'Name:{Name} \\nAge: {age}\\n')\n",
    "fp.close()"
   ]
  },
  {
   "cell_type": "code",
   "execution_count": 22,
   "id": "11aa9cf0",
   "metadata": {},
   "outputs": [
    {
     "name": "stdout",
     "output_type": "stream",
     "text": [
      "Name:Haris \n",
      "Age: 23\n",
      "Name:Huzaifa \n",
      "Age: 28\n",
      "Name:Hanjala \n",
      "Age: 26\n",
      "Name:Mohammad \n",
      "Age: 21\n",
      "Name:Rafik Suleman \n",
      "Age: 51\n",
      "Name:Javid \n",
      "Age: 22\n",
      "Name:juned \n",
      "Age: 48\n",
      "\n"
     ]
    }
   ],
   "source": [
    "fp = open('Data.txt','r')\n",
    "print(fp.read())\n",
    "fp.close()"
   ]
  },
  {
   "cell_type": "code",
   "execution_count": 23,
   "id": "80e3ffa4",
   "metadata": {},
   "outputs": [
    {
     "name": "stdout",
     "output_type": "stream",
     "text": [
      "Number of line: 14\n",
      "Number of words: 22\n",
      "Number of char: 141\n"
     ]
    }
   ],
   "source": [
    "fp = open('Data.txt','r')\n",
    "Number_of_words = 0\n",
    "Number_of_char = 0\n",
    "Number_of_line = 0\n",
    "\n",
    "for line in fp:\n",
    "    Number_of_line +=1\n",
    "    line=line.strip('\\n')\n",
    "    Number_of_char +=len(line)\n",
    "    list1=line.split()\n",
    "    Number_of_words += len(list1)\n",
    "fp.close()\n",
    "print('Number of line:',Number_of_line)\n",
    "print('Number of words:',Number_of_words)\n",
    "print('Number of char:',Number_of_char)"
   ]
  },
  {
   "cell_type": "code",
   "execution_count": 26,
   "id": "00121e4b",
   "metadata": {},
   "outputs": [],
   "source": [
    "file1 = open('Data.txt','r')\n",
    "file2 = open(r'D:\\excel tamplate\\profit.txt', 'w')\n",
    "data = file1.readlines()\n",
    "for word in data:\n",
    "    file2.write(word)\n",
    "fp.close()"
   ]
  },
  {
   "cell_type": "code",
   "execution_count": 27,
   "id": "2df54c3c",
   "metadata": {},
   "outputs": [
    {
     "name": "stdout",
     "output_type": "stream",
     "text": [
      "Name:Haris \n",
      "Age: 23\n",
      "Name:Huzaifa \n",
      "Age: 28\n",
      "Name:Hanjala \n",
      "Age: 26\n",
      "Name:Mohammad \n",
      "Age: 21\n",
      "Name:Rafik Suleman \n",
      "Age: 51\n",
      "Name:Javid \n",
      "Age: 22\n",
      "Name:juned \n",
      "Age: 48\n",
      "\n"
     ]
    }
   ],
   "source": [
    "fp = open(r'D:\\excel tamplate\\profit.txt', 'r')\n",
    "print(fp.read())\n",
    "fp.close()"
   ]
  },
  {
   "cell_type": "code",
   "execution_count": 90,
   "id": "8cb2059b",
   "metadata": {},
   "outputs": [
    {
     "name": "stdout",
     "output_type": "stream",
     "text": [
      "Enter Mentor NameAshraf bhai\n",
      "if you want to another (y/n)y\n",
      "Enter Mentor Namejuned bhai\n",
      "if you want to another (y/n)y\n",
      "Enter Mentor NameSohel bhai\n",
      "if you want to another (y/n)n\n"
     ]
    }
   ],
   "source": [
    "while True:\n",
    "    Name = input('Enter Mentor Name')\n",
    "    ans= input('if you want to another (y/n)')\n",
    "    fp = open('C:/Users/ASUS/Documents/Desktop/python/File Handling/Mentor.txt','a')\n",
    "    if ans == 'y':\n",
    "        fp.write(f'{Name}\\n')\n",
    "        fp.close()\n",
    "    else:\n",
    "        fp.write(f'{Name}\\n')\n",
    "        fp.close()\n",
    "        break"
   ]
  },
  {
   "cell_type": "code",
   "execution_count": 91,
   "id": "9483cb3d",
   "metadata": {},
   "outputs": [
    {
     "name": "stdout",
     "output_type": "stream",
     "text": [
      "Khalid bhai\n",
      "Sadique bhai\n",
      "Ashraf bhai\n",
      "juned bhai\n",
      "Sohel bhai\n",
      "\n"
     ]
    }
   ],
   "source": [
    "fp = open('C:/Users/ASUS/Documents/Desktop/python/File Handling/Mentor.txt','r')\n",
    "print(fp.read())\n",
    "fp.close()"
   ]
  },
  {
   "cell_type": "code",
   "execution_count": 101,
   "id": "8b937dc6",
   "metadata": {},
   "outputs": [
    {
     "name": "stdout",
     "output_type": "stream",
     "text": [
      "Enter Male Student NameShoyab\n",
      "if you want to another (y/n)y\n",
      "Enter Male Student NameAshaar\n",
      "if you want to another (y/n)y\n",
      "Enter Male Student NameSaud\n",
      "if you want to another (y/n)y\n",
      "Enter Male Student NameAdnan\n",
      "if you want to another (y/n)y\n",
      "Enter Male Student NameAsif\n",
      "if you want to another (y/n)y\n",
      "Enter Male Student NameBilal\n",
      "if you want to another (y/n)y\n",
      "Enter Male Student NameFarid\n",
      "if you want to another (y/n)y\n",
      "Enter Male Student NameNoman\n",
      "if you want to another (y/n)y\n",
      "Enter Male Student NameArfan bhai\n",
      "if you want to another (y/n)y\n",
      "Enter Male Student Nameharis\n",
      "if you want to another (y/n)n\n"
     ]
    }
   ],
   "source": [
    "while True:\n",
    "    Name = input('Enter Male Student Name')\n",
    "    ans= input('if you want to another (y/n)')\n",
    "    fp = open('C:/Users/ASUS/Documents/Desktop/python/File Handling/Male Student.txt','a')\n",
    "    if ans == 'y':\n",
    "        fp.write(f'{Name}\\n')\n",
    "        fp.close()\n",
    "    else:\n",
    "        fp.write(f'{Name}\\n')\n",
    "        fp.close()\n",
    "        break"
   ]
  },
  {
   "cell_type": "code",
   "execution_count": 102,
   "id": "8f366a08",
   "metadata": {},
   "outputs": [
    {
     "name": "stdout",
     "output_type": "stream",
     "text": [
      "Shoyab\n",
      "Ashaar\n",
      "Saud\n",
      "Adnan\n",
      "Asif\n",
      "Bilal\n",
      "Farid\n",
      "Noman\n",
      "Arfan bhai\n",
      "haris\n",
      "\n"
     ]
    }
   ],
   "source": [
    "fp = open('C:/Users/ASUS/Documents/Desktop/python/File Handling/Male Student.txt','r')\n",
    "print(fp.read())\n",
    "fp.close()"
   ]
  },
  {
   "cell_type": "code",
   "execution_count": 103,
   "id": "d639a2aa",
   "metadata": {},
   "outputs": [
    {
     "name": "stdout",
     "output_type": "stream",
     "text": [
      "Enter jobe taken Namefatema\n",
      "if you want to another (y/n)y\n",
      "Enter jobe taken NameSaurabh\n",
      "if you want to another (y/n)y\n",
      "Enter jobe taken NameJafar\n",
      "if you want to another (y/n)y\n",
      "Enter jobe taken NameAnam\n",
      "if you want to another (y/n)y\n",
      "Enter jobe taken Nameiram\n",
      "if you want to another (y/n)n\n"
     ]
    }
   ],
   "source": [
    "\n",
    "while True:\n",
    "    Name = input('Enter jobe taken Name')\n",
    "    ans= input('if you want to another (y/n)')\n",
    "    fp = open('C:/Users/ASUS/Documents/Desktop/python/File Handling/jobe taken.txt','a')\n",
    "    if ans == 'y':\n",
    "        fp.write(f'{Name}\\n')\n",
    "        fp.close()\n",
    "    else:\n",
    "        fp.write(f'{Name}\\n')\n",
    "        fp.close()\n",
    "        break"
   ]
  },
  {
   "cell_type": "code",
   "execution_count": 104,
   "id": "c3ad9b7a",
   "metadata": {},
   "outputs": [
    {
     "name": "stdout",
     "output_type": "stream",
     "text": [
      "fatema\n",
      "Saurabh\n",
      "Jafar\n",
      "Anam\n",
      "iram\n",
      "\n"
     ]
    }
   ],
   "source": [
    "fp = open('C:/Users/ASUS/Documents/Desktop/python/File Handling/jobe taken.txt','r')\n",
    "print(fp.read())\n",
    "fp.close()"
   ]
  },
  {
   "cell_type": "code",
   "execution_count": 106,
   "id": "b1c8dab2",
   "metadata": {},
   "outputs": [
    {
     "name": "stdout",
     "output_type": "stream",
     "text": [
      "Enter lady Student NameMisbah\n",
      "if you want to another (y/n)y\n",
      "Enter lady Student NameAfreen\n",
      "if you want to another (y/n)n\n"
     ]
    }
   ],
   "source": [
    "\n",
    "\n",
    "while True:\n",
    "    Name = input('Enter lady Student Name')\n",
    "    ans= input('if you want to another (y/n)')\n",
    "    fp = open('C:/Users/ASUS/Documents/Desktop/python/File Handling/lady Student.txt','a')\n",
    "    if ans == 'y':\n",
    "        fp.write(f'{Name}\\n')\n",
    "        fp.close()\n",
    "    else:\n",
    "        fp.write(f'{Name}\\n')\n",
    "        fp.close()\n",
    "        break"
   ]
  },
  {
   "cell_type": "code",
   "execution_count": 107,
   "id": "eb62b998",
   "metadata": {},
   "outputs": [
    {
     "name": "stdout",
     "output_type": "stream",
     "text": [
      "Minhaj\n",
      "Zikra\n",
      "Misbah\n",
      "Afreen\n",
      "\n"
     ]
    }
   ],
   "source": [
    "fp = open('C:/Users/ASUS/Documents/Desktop/python/File Handling/lady Student.txt','r')\n",
    "print(fp.read())\n",
    "fp.close()"
   ]
  },
  {
   "cell_type": "code",
   "execution_count": null,
   "id": "045e7772",
   "metadata": {},
   "outputs": [],
   "source": []
  },
  {
   "cell_type": "code",
   "execution_count": null,
   "id": "5f6cc1f4",
   "metadata": {},
   "outputs": [],
   "source": []
  }
 ],
 "metadata": {
  "kernelspec": {
   "display_name": "Python 3 (ipykernel)",
   "language": "python",
   "name": "python3"
  },
  "language_info": {
   "codemirror_mode": {
    "name": "ipython",
    "version": 3
   },
   "file_extension": ".py",
   "mimetype": "text/x-python",
   "name": "python",
   "nbconvert_exporter": "python",
   "pygments_lexer": "ipython3",
   "version": "3.11.0"
  }
 },
 "nbformat": 4,
 "nbformat_minor": 5
}

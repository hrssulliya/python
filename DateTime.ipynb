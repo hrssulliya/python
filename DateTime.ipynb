{
 "cells": [
  {
   "cell_type": "code",
   "execution_count": 16,
   "id": "1af27d56",
   "metadata": {},
   "outputs": [
    {
     "data": {
      "text/plain": [
       "'Wednesday 14 December 2022  11:23:22'"
      ]
     },
     "execution_count": 16,
     "metadata": {},
     "output_type": "execute_result"
    }
   ],
   "source": [
    "import datetime\n",
    "\n",
    "Date = datetime.datetime.now()\n",
    "Date.strftime(\"%A %d %B %Y  %H:%M:%S\")"
   ]
  },
  {
   "cell_type": "code",
   "execution_count": 33,
   "id": "2cbcd5c8",
   "metadata": {},
   "outputs": [
    {
     "name": "stdout",
     "output_type": "stream",
     "text": [
      "Enter Day of Your Date of Birth: 12\n",
      "Enter Day of month Date of Birth: 12\n",
      "Enter Day of year Date of Birth: 2020\n",
      "12-12-2020\n"
     ]
    }
   ],
   "source": [
    "from datetime import datetime\n",
    "\n",
    "D = int(input('Enter Day of Your Date of Birth: '))\n",
    "M = int(input('Enter Day of month Date of Birth: '))\n",
    "Y = int(input('Enter Day of year Date of Birth: '))\n",
    "print(f'{D}-{M}-{Y}')"
   ]
  },
  {
   "cell_type": "code",
   "execution_count": 20,
   "id": "9b81ef72",
   "metadata": {},
   "outputs": [
    {
     "ename": "SyntaxError",
     "evalue": "invalid syntax (19382718.py, line 3)",
     "output_type": "error",
     "traceback": [
      "\u001b[1;36m  Cell \u001b[1;32mIn [20], line 3\u001b[1;36m\u001b[0m\n\u001b[1;33m    Date_of Birth = input('Enter Your Date of Birth')\u001b[0m\n\u001b[1;37m            ^\u001b[0m\n\u001b[1;31mSyntaxError\u001b[0m\u001b[1;31m:\u001b[0m invalid syntax\n"
     ]
    }
   ],
   "source": [
    "from datetime import datetime\n",
    "\n",
    "Date_of Birth = input('Enter Your Date of Birth')"
   ]
  },
  {
   "cell_type": "code",
   "execution_count": 34,
   "id": "22be1fe2",
   "metadata": {},
   "outputs": [
    {
     "ename": "SyntaxError",
     "evalue": "invalid syntax (1720354020.py, line 6)",
     "output_type": "error",
     "traceback": [
      "\u001b[1;36m  Cell \u001b[1;32mIn [34], line 6\u001b[1;36m\u001b[0m\n\u001b[1;33m    cal = calendar.(month, year)\u001b[0m\n\u001b[1;37m                   ^\u001b[0m\n\u001b[1;31mSyntaxError\u001b[0m\u001b[1;31m:\u001b[0m invalid syntax\n"
     ]
    }
   ],
   "source": [
    "import calendar\n",
    "\n",
    "month = int(input(\"Enter the month: \"))\n",
    "year = int(input(\"Enter the year: \"))\n",
    "\n",
    "cal = calendar.(month, year)\n",
    "print(cal)"
   ]
  },
  {
   "cell_type": "code",
   "execution_count": null,
   "id": "1111ed79",
   "metadata": {},
   "outputs": [],
   "source": []
  }
 ],
 "metadata": {
  "kernelspec": {
   "display_name": "Python 3 (ipykernel)",
   "language": "python",
   "name": "python3"
  },
  "language_info": {
   "codemirror_mode": {
    "name": "ipython",
    "version": 3
   },
   "file_extension": ".py",
   "mimetype": "text/x-python",
   "name": "python",
   "nbconvert_exporter": "python",
   "pygments_lexer": "ipython3",
   "version": "3.11.0"
  }
 },
 "nbformat": 4,
 "nbformat_minor": 5
}

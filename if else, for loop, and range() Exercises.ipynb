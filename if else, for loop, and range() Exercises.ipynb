{
 "cells": [
  {
   "cell_type": "code",
   "execution_count": 17,
   "id": "d5224ddd",
   "metadata": {},
   "outputs": [
    {
     "name": "stdout",
     "output_type": "stream",
     "text": [
      "Even\n",
      "Even\n",
      "Odd\n",
      "Odd\n"
     ]
    }
   ],
   "source": [
    "#‎1. To print odd & even number‎\n",
    "\n",
    "a=[2,8,5,1]\n",
    "# a = int(input())\n",
    "for x in a:\n",
    "    print('Even') if x % 2 == 0 else print('Odd')\n",
    "    \n",
    "    \n",
    "a = int(input())\n",
    "print('Even') if a % 2 == 0 else print('Odd')\n",
    "    "
   ]
  },
  {
   "cell_type": "code",
   "execution_count": 2,
   "id": "cf50223d",
   "metadata": {},
   "outputs": [],
   "source": [
    "#‎2.Count the total number of digits in a number using for loop‎"
   ]
  },
  {
   "cell_type": "code",
   "execution_count": 3,
   "id": "af9a0595",
   "metadata": {},
   "outputs": [],
   "source": [
    "#‎3.Write a program to print multiplication table of a given number‎"
   ]
  },
  {
   "cell_type": "code",
   "execution_count": 4,
   "id": "13e09fd5",
   "metadata": {},
   "outputs": [],
   "source": [
    "#‎4.Count the total number of digits in a number using while loop‎"
   ]
  },
  {
   "cell_type": "code",
   "execution_count": 5,
   "id": "2d629039",
   "metadata": {},
   "outputs": [],
   "source": [
    "#‎5.Find the factorial of a given number‎"
   ]
  },
  {
   "cell_type": "code",
   "execution_count": 6,
   "id": "72ed79e1",
   "metadata": {},
   "outputs": [],
   "source": [
    "#‎6.Display Fibonacci series up to 10 terms‎\n"
   ]
  },
  {
   "cell_type": "code",
   "execution_count": 7,
   "id": "8d2dc7e2",
   "metadata": {},
   "outputs": [],
   "source": [
    "#‎7.Calculate the cube of all numbers from 1 to a given number"
   ]
  },
  {
   "cell_type": "code",
   "execution_count": null,
   "id": "32c333fd",
   "metadata": {},
   "outputs": [],
   "source": [
    "#‎8. print the given number is prime or not‎"
   ]
  }
 ],
 "metadata": {
  "kernelspec": {
   "display_name": "Python 3 (ipykernel)",
   "language": "python",
   "name": "python3"
  },
  "language_info": {
   "codemirror_mode": {
    "name": "ipython",
    "version": 3
   },
   "file_extension": ".py",
   "mimetype": "text/x-python",
   "name": "python",
   "nbconvert_exporter": "python",
   "pygments_lexer": "ipython3",
   "version": "3.11.0"
  }
 },
 "nbformat": 4,
 "nbformat_minor": 5
}

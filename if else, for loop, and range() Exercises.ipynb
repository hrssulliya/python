{
 "cells": [
  {
   "cell_type": "code",
   "execution_count": 17,
   "id": "d5224ddd",
   "metadata": {},
   "outputs": [
    {
     "name": "stdout",
     "output_type": "stream",
     "text": [
      "Even\n",
      "Even\n",
      "Odd\n",
      "Odd\n"
     ]
    }
   ],
   "source": [
    "#‎1. To print odd & even number‎\n",
    "\n",
    "a=[2,8,5,1]\n",
    "# a = int(input())\n",
    "for x in a:\n",
    "    print('Even') if x % 2 == 0 else print('Odd')\n",
    "    \n",
    "    \n",
    "a = int(input())\n",
    "print('Even') if a % 2 == 0 else print('Odd')\n",
    "    "
   ]
  },
  {
   "cell_type": "code",
   "execution_count": 42,
   "id": "cf50223d",
   "metadata": {},
   "outputs": [
    {
     "name": "stdout",
     "output_type": "stream",
     "text": [
      "Enter any number : 45\n",
      "the total number of digits : 2\n"
     ]
    }
   ],
   "source": [
    "#‎2.Count the total number of digits in a number using for loop‎\n",
    "\n",
    "\n",
    "num = int(input(\"Enter any number : \"))\n",
    "count = 0\n",
    "for i in str(num):\n",
    "    temp = temp // 10\n",
    "    count += 1\n",
    "print('the total number of digits :',count)"
   ]
  },
  {
   "cell_type": "code",
   "execution_count": 28,
   "id": "af9a0595",
   "metadata": {},
   "outputs": [
    {
     "name": "stdout",
     "output_type": "stream",
     "text": [
      "4\n",
      "4  X  1  =  4\n",
      "4  X  2  =  8\n",
      "4  X  3  =  12\n",
      "4  X  4  =  16\n",
      "4  X  5  =  20\n",
      "4  X  6  =  24\n",
      "4  X  7  =  28\n",
      "4  X  8  =  32\n",
      "4  X  9  =  36\n",
      "4  X  10  =  40\n",
      "\n"
     ]
    }
   ],
   "source": [
    "#‎3.Write a program to print multiplication table of a given number‎\n",
    "\n",
    "a = int(input())\n",
    "for x in range(a,a+1):\n",
    "    for j in range(1,11):\n",
    "        print(x, \" X \", j, \" = \", x*j)\n",
    "    print()"
   ]
  },
  {
   "cell_type": "code",
   "execution_count": 4,
   "id": "13e09fd5",
   "metadata": {},
   "outputs": [],
   "source": [
    "#‎4.Count the total number of digits in a number using while loop‎\n",
    "\n",
    "a = int(input())\n",
    "count = 0\n",
    "\n",
    "while a != 0:\n",
    "    a //= 10\n",
    "    count += 1\n",
    "\n",
    "print('the total number of digits :', count)"
   ]
  },
  {
   "cell_type": "code",
   "execution_count": 84,
   "id": "2d629039",
   "metadata": {},
   "outputs": [
    {
     "name": "stdout",
     "output_type": "stream",
     "text": [
      "6\n",
      "720\n"
     ]
    }
   ],
   "source": [
    "#‎5.Find the factorial of a given number‎\n",
    "\n",
    "factorial = 1\n",
    "a = int(input())\n",
    "for x in range(1, a+1):\n",
    "    factorial = factorial * x\n",
    "print(factorial)"
   ]
  },
  {
   "cell_type": "code",
   "execution_count": 90,
   "id": "0bed2f5d",
   "metadata": {},
   "outputs": [],
   "source": [
    "    "
   ]
  },
  {
   "cell_type": "code",
   "execution_count": null,
   "id": "22ef4bb3",
   "metadata": {},
   "outputs": [],
   "source": []
  },
  {
   "cell_type": "code",
   "execution_count": 59,
   "id": "72ed79e1",
   "metadata": {},
   "outputs": [
    {
     "name": "stdout",
     "output_type": "stream",
     "text": [
      "0 ,1 ,1 ,2 ,3 ,5 ,8 ,13 ,21 ,34 ,"
     ]
    }
   ],
   "source": [
    "#‎6.Display Fibonacci series up to 10 terms‎\n",
    "\n",
    "x,y = 0, 1\n",
    "for i in range(10):\n",
    "    print(x, ',', end=\"\")\n",
    "    \n",
    "    resu = x + y\n",
    "    x = y\n",
    "    y = resu"
   ]
  },
  {
   "cell_type": "code",
   "execution_count": null,
   "id": "1b45c568",
   "metadata": {},
   "outputs": [],
   "source": []
  },
  {
   "cell_type": "code",
   "execution_count": 68,
   "id": "8d2dc7e2",
   "metadata": {},
   "outputs": [
    {
     "name": "stdout",
     "output_type": "stream",
     "text": [
      "11\n",
      "1\n",
      "8\n",
      "27\n",
      "64\n",
      "125\n",
      "216\n",
      "343\n",
      "512\n",
      "729\n",
      "1000\n"
     ]
    }
   ],
   "source": [
    "#‎7.Calculate the cube of all numbers from 1 to a given number\n",
    "\n",
    "num1 = 1\n",
    "num = int(input())\n",
    "for x in range(1, num):\n",
    "    print(x*x*x)\n",
    "\n"
   ]
  },
  {
   "cell_type": "code",
   "execution_count": 83,
   "id": "32c333fd",
   "metadata": {},
   "outputs": [
    {
     "name": "stdout",
     "output_type": "stream",
     "text": [
      "407\n",
      "407 is not a prime number\n",
      "11 x 37 = 407\n"
     ]
    }
   ],
   "source": [
    "#‎8. print the given number is prime or not‎\n",
    "\n",
    "num = int(input())\n",
    "if num > 1:\n",
    "    for i in range(2,num):\n",
    "        if num % i == 0:\n",
    "            print(num,\"is not a prime number\")\n",
    "            print(i,\"x\",num//i,\"=\",num)\n",
    "            break\n",
    "    else:\n",
    "        print(num,\"is a prime number\")\n",
    "else:\n",
    "   print(num,\"is not a prime number\")\n"
   ]
  },
  {
   "cell_type": "code",
   "execution_count": null,
   "id": "5434f95d",
   "metadata": {},
   "outputs": [],
   "source": []
  }
 ],
 "metadata": {
  "kernelspec": {
   "display_name": "Python 3 (ipykernel)",
   "language": "python",
   "name": "python3"
  },
  "language_info": {
   "codemirror_mode": {
    "name": "ipython",
    "version": 3
   },
   "file_extension": ".py",
   "mimetype": "text/x-python",
   "name": "python",
   "nbconvert_exporter": "python",
   "pygments_lexer": "ipython3",
   "version": "3.11.0"
  }
 },
 "nbformat": 4,
 "nbformat_minor": 5
}

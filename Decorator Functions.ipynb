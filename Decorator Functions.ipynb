{
 "cells": [
  {
   "cell_type": "code",
   "execution_count": 13,
   "id": "4e74d3c7",
   "metadata": {},
   "outputs": [
    {
     "name": "stdout",
     "output_type": "stream",
     "text": [
      "I am going to divide 2 and 8\n",
      "I am going to divide 8 and 2\n",
      "4.0\n"
     ]
    }
   ],
   "source": [
    "def smart_divide(func):\n",
    "    def inner(a, b):\n",
    "        print(\"I am going to divide\", a, \"and\", b)\n",
    "        if a < b:\n",
    "            a,b = b,a\n",
    "            print(\"I am going to divide\", a, \"and\", b)\n",
    "        if b == 0:\n",
    "            print(\"Whoops! cannot divide\")\n",
    "            return\n",
    "            \n",
    "        return func(a, b)\n",
    "    return inner\n",
    "\n",
    "\n",
    "@smart_divide\n",
    "def divide(a,b):\n",
    "    print(a/b)\n",
    "    \n",
    "    \n",
    "divide(2,8)"
   ]
  },
  {
   "cell_type": "code",
   "execution_count": 16,
   "id": "28a42e28",
   "metadata": {},
   "outputs": [
    {
     "name": "stdout",
     "output_type": "stream",
     "text": [
      "****************************** 1ST**************\n",
      "%%%%%%%%%%%%%%%%%%%%%%%%%%%%%% 3rd %%%%%%%%%%%%%%%%\n",
      "Hello\n",
      "%%%%%%%%%%%%%%%%%%%%%%%%%%%%%% 4th n%%%%%%%%%%%%%%%\n",
      "****************************** 2nd *************\n"
     ]
    }
   ],
   "source": [
    "def star(a):\n",
    "    def inner(*args, **kwargs):\n",
    "        print(\"*\" * 30, \"1ST**************\")\n",
    "        a(*args, **kwargs)\n",
    "        print(\"*\" * 30, '2nd *************')\n",
    "    return inner\n",
    "\n",
    "\n",
    "def percent(b):\n",
    "    def inner(*args, **kwargs):\n",
    "        print(\"%\" * 30, '3rd %%%%%%%%%%%%%%%%')\n",
    "        b(*args, **kwargs)\n",
    "        print(\"%\" * 30, '4th n%%%%%%%%%%%%%%%')\n",
    "    return inner\n",
    "\n",
    "\n",
    "@star\n",
    "@percent\n",
    "def printer(msg):\n",
    "    print(msg)\n",
    "\n",
    "# printer = star(percent(printer))\n",
    "\n",
    "printer(\"Hello\")"
   ]
  },
  {
   "cell_type": "code",
   "execution_count": null,
   "id": "caaa013e",
   "metadata": {},
   "outputs": [],
   "source": []
  },
  {
   "cell_type": "code",
   "execution_count": null,
   "id": "5d7cded2",
   "metadata": {},
   "outputs": [],
   "source": []
  },
  {
   "cell_type": "code",
   "execution_count": null,
   "id": "0ddcf5e1",
   "metadata": {},
   "outputs": [],
   "source": []
  }
 ],
 "metadata": {
  "kernelspec": {
   "display_name": "Python 3 (ipykernel)",
   "language": "python",
   "name": "python3"
  },
  "language_info": {
   "codemirror_mode": {
    "name": "ipython",
    "version": 3
   },
   "file_extension": ".py",
   "mimetype": "text/x-python",
   "name": "python",
   "nbconvert_exporter": "python",
   "pygments_lexer": "ipython3",
   "version": "3.11.0"
  }
 },
 "nbformat": 4,
 "nbformat_minor": 5
}

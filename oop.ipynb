{
 "cells": [
  {
   "cell_type": "code",
   "execution_count": 11,
   "id": "cf1ff917",
   "metadata": {},
   "outputs": [
    {
     "name": "stdout",
     "output_type": "stream",
     "text": [
      "Name : Haris \n",
      "Age : 23 \n",
      "Sex : Male\n"
     ]
    }
   ],
   "source": [
    "class Student:\n",
    "    def __init__(self,name,age,sex):\n",
    "        self.name = name\n",
    "        self.age = age\n",
    "        self.sex = sex\n",
    "    \n",
    "    def show(self):\n",
    "        print('Name :', self.name, '\\nAge :',self.age, '\\nSex :',self.sex)\n",
    "        \n",
    "Haris = Student('Haris',23,'Male')\n",
    "\n",
    "Haris.show()"
   ]
  },
  {
   "cell_type": "code",
   "execution_count": 17,
   "id": "fa238e95",
   "metadata": {},
   "outputs": [
    {
     "name": "stdout",
     "output_type": "stream",
     "text": [
      "Name : Haris \n",
      "Age : 23 \n",
      "Sex : Male \n",
      "Friend : Rashid\n"
     ]
    }
   ],
   "source": [
    "class Student:\n",
    "    def __init__(self,name,age,sex):\n",
    "        self.name = name\n",
    "        self.age = age\n",
    "        self.sex = sex\n",
    "    \n",
    "    def show(self):\n",
    "        print('Name :', Haris.name, '\\nAge :',Haris.age, '\\nSex :',Haris.sex,'\\nFriend :',Haris.friend,)\n",
    "        \n",
    "Haris = Student('Haris',23,'Male')\n",
    "\n",
    "Haris.friend = 'Rashid'\n",
    "Haris.show()"
   ]
  },
  {
   "cell_type": "code",
   "execution_count": 3,
   "id": "96f6475a",
   "metadata": {},
   "outputs": [
    {
     "name": "stdout",
     "output_type": "stream",
     "text": [
      "Before\n",
      "Emma 10 ABC School \n",
      "Jessa 20 ABC School \n",
      "After\n",
      "Emma 10 ABC School \n",
      "Jessa 20 PQR School\n"
     ]
    }
   ],
   "source": [
    "class Student:\n",
    "    # Class variable\n",
    "    school_name = 'ABC School '\n",
    "\n",
    "    # constructor\n",
    "    def __init__(self, name, roll_no):\n",
    "        self.name = name\n",
    "        self.roll_no = roll_no\n",
    "\n",
    "# create Objects\n",
    "s1 = Student('Emma', 10)\n",
    "s2 = Student('Jessa', 20)\n",
    "\n",
    "print('Before')\n",
    "print(s1.name, s1.roll_no, s1.school_name)\n",
    "print(s2.name, s2.roll_no, s2.school_name)\n",
    "\n",
    "# Modify class variable using object reference\n",
    "s2.school_name = 'PQR School'\n",
    "print('After')\n",
    "print(s1.name, s1.roll_no, s1.school_name)\n",
    "print(s2.name, s2.roll_no, s2.school_name)\n"
   ]
  },
  {
   "cell_type": "code",
   "execution_count": 12,
   "id": "dc8dc8ec",
   "metadata": {
    "scrolled": true
   },
   "outputs": [
    {
     "name": "stdout",
     "output_type": "stream",
     "text": [
      "MCC\n",
      "MCC\n",
      "MCC\n",
      "ABC\n",
      "ABC\n",
      "ABC\n",
      "Junaid's id is 22 \n",
      "Harish's id is 21 \n"
     ]
    }
   ],
   "source": [
    "class Student:\n",
    "    school=\"MCC\"\n",
    "    \n",
    "    def __init__(self,name,id):\n",
    "        self.name=name\n",
    "        self.id=id\n",
    "        \n",
    "    def show(self):\n",
    "        print(f\"{self.name}'s id is {self.id} \")\n",
    "   \n",
    "    @classmethod   \n",
    "    def chnage_school(cls):\n",
    "        cls.school=\"ABC\"\n",
    "        \n",
    "s1=Student(\"Junaid\",22)\n",
    "s2=Student(\"Harish\",21)\n",
    "print(Student.school)\n",
    "print(s1.school)\n",
    "\n",
    "print(s2.school)\n",
    "\n",
    "s1.chnage_school()\n",
    "\n",
    "print(Student.school)\n",
    "print(s1.school)\n",
    "\n",
    "print(s2.school)\n",
    "\n",
    "s1.show()\n",
    "s2.show()"
   ]
  },
  {
   "cell_type": "code",
   "execution_count": 17,
   "id": "424d667f",
   "metadata": {},
   "outputs": [
    {
     "name": "stdout",
     "output_type": "stream",
     "text": [
      "Max_Speed : 240 \n",
      "mileage : 55\n"
     ]
    }
   ],
   "source": [
    "#OOP Exercise 1: Create a Class with instance attributes\n",
    "\n",
    "class Vehicle:\n",
    "    def __init__(self, max_speed, mileage):\n",
    "        self.max_speed = max_speed\n",
    "        self.mileage = mileage\n",
    "        \n",
    "car = Vehicle(240,55)\n",
    "print('Max_Speed :', car.max_speed,'\\nmileage :', car.mileage)"
   ]
  },
  {
   "cell_type": "code",
   "execution_count": 4,
   "id": "bd402491",
   "metadata": {},
   "outputs": [
    {
     "name": "stdout",
     "output_type": "stream",
     "text": [
      "This is Vehicle\n",
      "Car name is: BMW\n",
      "This is Vehicle\n",
      "Truck name is: Ford\n"
     ]
    }
   ],
   "source": []
  },
  {
   "cell_type": "code",
   "execution_count": 18,
   "id": "f9bb0006",
   "metadata": {},
   "outputs": [],
   "source": [
    "#OOP Exercise 2: Create a Vehicle class without any variables and methods\n",
    "\n",
    "class Vehicle:\n",
    "    pass"
   ]
  },
  {
   "cell_type": "code",
   "execution_count": 30,
   "id": "086e4ca9",
   "metadata": {},
   "outputs": [
    {
     "name": "stdout",
     "output_type": "stream",
     "text": [
      "Vehicle Name: School Volvo \n",
      "Speed: 180 \n",
      "Mileage: 12\n"
     ]
    }
   ],
   "source": [
    "#OOP Exercise 3: Create a child class Bus that will inherit all of the variables and methods of the Vehicle class\n",
    "\n",
    "class Vehicle:\n",
    "    def __init__(self, name, max_speed, mileage):\n",
    "        self.name = name\n",
    "        self.max_speed = max_speed\n",
    "        self.mileage = mileage\n",
    "        \n",
    "bus = Vehicle('School Volvo', 180 , 12)\n",
    "print('Vehicle Name:', bus.name ,'\\nSpeed:' ,bus.max_speed, '\\nMileage:', bus.mileage)"
   ]
  },
  {
   "cell_type": "code",
   "execution_count": 23,
   "id": "bf2be3ab",
   "metadata": {},
   "outputs": [
    {
     "name": "stdout",
     "output_type": "stream",
     "text": [
      "Hello1\n",
      "haris\n"
     ]
    }
   ],
   "source": [
    "#super function\n",
    "class emp:\n",
    "    def show(self):\n",
    "        print(\"Hello1\")\n",
    "class freelance(emp):\n",
    "    def show(self):\n",
    "        super().show()\n",
    "        print(\"haris\")\n",
    "obj=freelance()\n",
    "obj.show()"
   ]
  },
  {
   "cell_type": "code",
   "execution_count": null,
   "id": "f1dcc4f7",
   "metadata": {},
   "outputs": [],
   "source": [
    "\n"
   ]
  },
  {
   "cell_type": "code",
   "execution_count": 49,
   "id": "10eef78e",
   "metadata": {},
   "outputs": [
    {
     "name": "stdout",
     "output_type": "stream",
     "text": [
      "Vehicle Name: School Volvo \n",
      "Speed: 180 \n",
      "Mileage: 12\n",
      "The seating capacity of a School Volvo is 50 passengers\n"
     ]
    }
   ],
   "source": [
    "#OOP Exercise 4: Class Inheritance\n",
    "class Vehicle:\n",
    "    def __init__(self, name, max_speed, mileage):\n",
    "        self.name = name\n",
    "        self.max_speed = max_speed\n",
    "        self.mileage = mileage\n",
    "\n",
    "    def seating_capacity(self, capacity):\n",
    "        return f\"The seating capacity of a {self.name} is {capacity} passengers\"\n",
    "\n",
    "class Bus(Vehicle):\n",
    "    # assign default value to capacity\n",
    "    def seating_capacity(self, capacity=50):\n",
    "        return super().seating_capacity(capacity=50)\n",
    "\n",
    "bus = Bus(\"School Volvo\", 180, 12)\n",
    "print('Vehicle Name:', bus.name ,'\\nSpeed:' ,bus.max_speed, '\\nMileage:', bus.mileage,)\n",
    "print(bus.seating_capacity())\n"
   ]
  },
  {
   "cell_type": "code",
   "execution_count": 57,
   "id": "c122e6cd",
   "metadata": {},
   "outputs": [
    {
     "name": "stdout",
     "output_type": "stream",
     "text": [
      "Vehicle Name: School Volvo \n",
      "Speed: 180 \n",
      "Mileage: 12 \n",
      "Color white \n",
      "\n",
      "Vehicle Name: indigo \n",
      "Speed: 80 \n",
      "Mileage: 5 \n",
      "Color white\n"
     ]
    }
   ],
   "source": [
    "#OOP Exercise 5: Define a property that must have the same value for every class instance (object)\n",
    "\n",
    "class Vehicle:\n",
    "    color = 'white'\n",
    "    def __init__(self, name, max_speed, mileage):\n",
    "        self.name = name\n",
    "        self.max_speed = max_speed\n",
    "        self.mileage = mileage\n",
    "        \n",
    "class Bus(Vehicle):\n",
    "    pass\n",
    "    \n",
    "class Car(Vehicle):\n",
    "    pass\n",
    "\n",
    "bus = Bus(\"School Volvo\", 180, 12)\n",
    "car = Car('indigo',80,5)\n",
    "print('Vehicle Name:', bus.name ,'\\nSpeed:' ,bus.max_speed, '\\nMileage:', bus.mileage, '\\nColor',bus.color,'\\n')\n",
    "print('Vehicle Name:', car.name ,'\\nSpeed:' ,car.max_speed, '\\nMileage:', car.mileage, '\\nColor',car.color)"
   ]
  },
  {
   "cell_type": "code",
   "execution_count": 59,
   "id": "ef7c55d1",
   "metadata": {},
   "outputs": [
    {
     "name": "stdout",
     "output_type": "stream",
     "text": [
      "Total Bus fare is: 5500.0\n"
     ]
    }
   ],
   "source": [
    "#OOP Exercise 6: Class Inheritance\n",
    "\n",
    "class Vehicle:\n",
    "    def __init__(self, name, mileage, capacity):\n",
    "        self.name = name\n",
    "        self.mileage = mileage\n",
    "        self.capacity = capacity\n",
    "\n",
    "    def fare(self):\n",
    "        return self.capacity * 100\n",
    "\n",
    "class Bus(Vehicle):\n",
    "    def fare(self):\n",
    "        amount = super().fare()\n",
    "        amount += amount *10 / 100\n",
    "        return amount\n",
    "\n",
    "School_bus = Bus(\"School Volvo\", 12, 50)\n",
    "print(\"Total Bus fare is:\", School_bus.fare())"
   ]
  },
  {
   "cell_type": "code",
   "execution_count": 63,
   "id": "5dded85c",
   "metadata": {},
   "outputs": [
    {
     "name": "stdout",
     "output_type": "stream",
     "text": [
      "<class '__main__.Bus'>\n",
      "<class '__main__.Vehicle'>\n"
     ]
    }
   ],
   "source": [
    "#OOP Exercise 7: Check type of an object\n",
    "#Write a program to determine which class a given Bus object belongs to.\n",
    "\n",
    "class Vehicle:\n",
    "    color = 'white'\n",
    "    def __init__(self, name, max_speed, mileage):\n",
    "        self.name = name\n",
    "        self.max_speed = max_speed\n",
    "        self.mileage = mileage\n",
    "        \n",
    "class Bus(Vehicle):\n",
    "    pass\n",
    "\n",
    "bus = Bus(\"School Volvo\", 180, 12)\n",
    "car = Vehicle(\"School Volvo\", 180, 12)\n",
    "print(type(bus))\n",
    "print(type(car))"
   ]
  },
  {
   "cell_type": "code",
   "execution_count": 65,
   "id": "cedb7b6b",
   "metadata": {},
   "outputs": [
    {
     "name": "stdout",
     "output_type": "stream",
     "text": [
      "True\n"
     ]
    }
   ],
   "source": [
    "\n",
    "class Vehicle:\n",
    "    color = 'white'\n",
    "    def __init__(self, name, max_speed, mileage):\n",
    "        self.name = name\n",
    "        self.max_speed = max_speed\n",
    "        self.mileage = mileage\n",
    "        \n",
    "class Bus(Vehicle):\n",
    "    pass\n",
    "\n",
    "bus = Bus(\"School Volvo\", 180, 12)\n",
    "car = Vehicle(\"School Volvo\", 180, 12)\n",
    "print(issubclass(Bus,Vehicle))"
   ]
  },
  {
   "cell_type": "code",
   "execution_count": 3,
   "id": "9cabd95b",
   "metadata": {},
   "outputs": [
    {
     "name": "stdout",
     "output_type": "stream",
     "text": [
      "True\n"
     ]
    }
   ],
   "source": [
    "#OOP Exercise 8: Determine if School_bus is also an instance of the Vehicle class\n",
    "class Vehicle:\n",
    "    color = 'white'\n",
    "    def __init__(self, name, max_speed, mileage):\n",
    "        self.name = name\n",
    "        self.max_speed = max_speed\n",
    "        self.mileage = mileage\n",
    "        \n",
    "class Bus(Vehicle):\n",
    "    pass\n",
    "\n",
    "bus = Bus(\"School Volvo\", 180, 12)\n",
    "car = Vehicle(\"School Volvo\", 180, 12)\n",
    "print(isinstance(bus,Vehicle))"
   ]
  },
  {
   "cell_type": "code",
   "execution_count": 4,
   "id": "08b3eb65",
   "metadata": {},
   "outputs": [
    {
     "ename": "SyntaxError",
     "evalue": "invalid non-printable character U+00A0 (2593011523.py, line 3)",
     "output_type": "error",
     "traceback": [
      "\u001b[1;36m  Cell \u001b[1;32mIn [4], line 3\u001b[1;36m\u001b[0m\n\u001b[1;33m    from abc import ABC\u001b[0m\n\u001b[1;37m        ^\u001b[0m\n\u001b[1;31mSyntaxError\u001b[0m\u001b[1;31m:\u001b[0m invalid non-printable character U+00A0\n"
     ]
    }
   ],
   "source": [
    "# Python program demonstrate  \n",
    "# abstract base class work   \n",
    "from abc import ABC\n",
    "\n",
    "class Car(ABC):  \n",
    "    @abstractmethod\n",
    "    def mileage(self):   \n",
    "        pass  \n",
    "\n",
    "class Tesla(Car):   \n",
    "    def mileage(self):   \n",
    "        print(\"The mileage is 30kmph\")   \n",
    "class Suzuki(Car):   \n",
    "    def mileage(self):   \n",
    "        print(\"The mileage is 25kmph \")   \n",
    "class Duster(Car):   \n",
    "     def mileage(self):   \n",
    "        print(\"The mileage is 24kmph \")   \n",
    "\n",
    "class Renault(Car):   \n",
    "    def mileage(self):   \n",
    "        print(\"The mileage is 27kmph \")   \n",
    "\n",
    "# Driver code   \n",
    "t= Tesla ()   \n",
    "t.mileage()   \n",
    "\n",
    "r = Renault()   \n",
    "r.mileage()   \n",
    "\n",
    "s = Suzuki()   \n",
    "s.mileage()   \n",
    "d = Duster()   \n",
    "d.mileage()  "
   ]
  },
  {
   "cell_type": "code",
   "execution_count": null,
   "id": "c50f573e",
   "metadata": {},
   "outputs": [],
   "source": []
  }
 ],
 "metadata": {
  "kernelspec": {
   "display_name": "Python 3 (ipykernel)",
   "language": "python",
   "name": "python3"
  },
  "language_info": {
   "codemirror_mode": {
    "name": "ipython",
    "version": 3
   },
   "file_extension": ".py",
   "mimetype": "text/x-python",
   "name": "python",
   "nbconvert_exporter": "python",
   "pygments_lexer": "ipython3",
   "version": "3.11.0"
  }
 },
 "nbformat": 4,
 "nbformat_minor": 5
}

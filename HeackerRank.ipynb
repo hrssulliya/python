{
 "cells": [
  {
   "cell_type": "code",
   "execution_count": null,
   "id": "f43b9950",
   "metadata": {},
   "outputs": [],
   "source": [
    "# Let's learn about list comprehensions! You are given three integers and representing the dimensions \n",
    "# of a cuboid along with an integer . Print a list of all possible coordinates given by on a 3D grid where \n",
    "# the sum of is not equal to .\n",
    "\n",
    "x = int(input())\n",
    "y = int(input())\n",
    "z = int(input())\n",
    "n = int(input())\n",
    "print([[i,j,k] for i in range(x+1) for j in range(y+1) for k in range(z+1) if i+j+k != n])"
   ]
  },
  {
   "cell_type": "code",
   "execution_count": null,
   "id": "4a4485f5",
   "metadata": {},
   "outputs": [],
   "source": [
    "n = int(input())\n",
    "arr = map(int, input().split())\n",
    "print (sorted(set (arr), index=False)[1])\n",
    "# print(sorted(list(set(arr)))[-2])"
   ]
  },
  {
   "cell_type": "code",
   "execution_count": 8,
   "id": "d34199e2",
   "metadata": {},
   "outputs": [
    {
     "name": "stdout",
     "output_type": "stream",
     "text": [
      "1992\n",
      "True\n"
     ]
    }
   ],
   "source": [
    "def is_leap(year):\n",
    "    leap = False\n",
    "    if (year % 400 == 0) and (year % 100 == 0):\n",
    "        return True\n",
    "    elif (year % 4 ==0) and (year % 100 != 0):\n",
    "        return True\n",
    "    else:\n",
    "        return leap\n",
    "year = int(input())\n",
    "print(is_leap(year))\n",
    "\n",
    "#2000\n",
    "#2100\n",
    "#2400\n",
    "#3455\n",
    "#1990\n",
    "#1992"
   ]
  },
  {
   "cell_type": "code",
   "execution_count": null,
   "id": "6c9dfba4",
   "metadata": {},
   "outputs": [],
   "source": []
  }
 ],
 "metadata": {
  "kernelspec": {
   "display_name": "Python 3 (ipykernel)",
   "language": "python",
   "name": "python3"
  },
  "language_info": {
   "codemirror_mode": {
    "name": "ipython",
    "version": 3
   },
   "file_extension": ".py",
   "mimetype": "text/x-python",
   "name": "python",
   "nbconvert_exporter": "python",
   "pygments_lexer": "ipython3",
   "version": "3.11.0"
  }
 },
 "nbformat": 4,
 "nbformat_minor": 5
}

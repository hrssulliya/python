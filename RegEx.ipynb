{
 "cells": [
  {
   "cell_type": "code",
   "execution_count": 1,
   "id": "a1ded9de",
   "metadata": {},
   "outputs": [],
   "source": [
    "import re\n",
    "nameage = '''Haris is 23 and Huzaifa is 28\n",
    "Hanjala is 26 and Mohammad is 21'''\n"
   ]
  },
  {
   "cell_type": "code",
   "execution_count": 2,
   "id": "423f903d",
   "metadata": {},
   "outputs": [
    {
     "data": {
      "text/plain": [
       "['23', '28', '26', '21']"
      ]
     },
     "execution_count": 2,
     "metadata": {},
     "output_type": "execute_result"
    }
   ],
   "source": [
    "ages = re.findall(r'\\d{1,3}',nameage)\n",
    "ages"
   ]
  },
  {
   "cell_type": "code",
   "execution_count": 8,
   "id": "46ced306",
   "metadata": {},
   "outputs": [
    {
     "data": {
      "text/plain": [
       "['Haris', 'Huzaifa', 'Hanjala', 'Mohammad']"
      ]
     },
     "execution_count": 8,
     "metadata": {},
     "output_type": "execute_result"
    }
   ],
   "source": [
    "names = re.findall(r'[A-Z][a-z]*',nameage)\n",
    "names"
   ]
  },
  {
   "cell_type": "code",
   "execution_count": 9,
   "id": "ea8976ee",
   "metadata": {},
   "outputs": [
    {
     "data": {
      "text/plain": [
       "{'Haris': '23', 'Huzaifa': '28', 'Hanjala': '26', 'Mohammad': '21'}"
      ]
     },
     "execution_count": 9,
     "metadata": {},
     "output_type": "execute_result"
    }
   ],
   "source": [
    "nameagedict = {}\n",
    "x =0\n",
    "for eachname in names:\n",
    "    nameagedict[eachname]=ages[x]\n",
    "    x+=1\n",
    "    \n",
    "nameagedict\n",
    "    "
   ]
  },
  {
   "cell_type": "code",
   "execution_count": 21,
   "id": "77200b5a",
   "metadata": {},
   "outputs": [
    {
     "name": "stdout",
     "output_type": "stream",
     "text": [
      "yes Python  is in a given string.\n"
     ]
    }
   ],
   "source": [
    "a = 'Python'\n",
    "text = 'Learn the basics of Python. These tutorials are for Python beginners.so even if you have no prior knowledge of Python, you won’t face any difficulty understanding these tutorials.'\n",
    "if re.search(a , text):\n",
    "    print('yes', a,' is in a given string.')\n",
    "else:\n",
    "    print('a')"
   ]
  },
  {
   "cell_type": "code",
   "execution_count": 28,
   "id": "048b4687",
   "metadata": {},
   "outputs": [
    {
     "name": "stdout",
     "output_type": "stream",
     "text": [
      "['Python', 'Python', 'Python']\n"
     ]
    }
   ],
   "source": [
    "x = re.findall(a,text)\n",
    "print(x)"
   ]
  },
  {
   "cell_type": "code",
   "execution_count": null,
   "id": "32a4a66c",
   "metadata": {},
   "outputs": [],
   "source": []
  }
 ],
 "metadata": {
  "kernelspec": {
   "display_name": "Python 3 (ipykernel)",
   "language": "python",
   "name": "python3"
  },
  "language_info": {
   "codemirror_mode": {
    "name": "ipython",
    "version": 3
   },
   "file_extension": ".py",
   "mimetype": "text/x-python",
   "name": "python",
   "nbconvert_exporter": "python",
   "pygments_lexer": "ipython3",
   "version": "3.11.0"
  }
 },
 "nbformat": 4,
 "nbformat_minor": 5
}

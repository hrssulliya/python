{
 "cells": [
  {
   "cell_type": "code",
   "execution_count": 32,
   "id": "d53ed0db",
   "metadata": {},
   "outputs": [
    {
     "name": "stdout",
     "output_type": "stream",
     "text": [
      "123456654321\n",
      "yes\n"
     ]
    }
   ],
   "source": [
    "#1.To check whether a given string is a palindrome.\n",
    "a = input()\n",
    "b = a[::-1]\n",
    "\n",
    "if a == b:\n",
    "    print(\"yes\")\n",
    "else:\n",
    "    print(\"No\")"
   ]
  },
  {
   "cell_type": "code",
   "execution_count": 35,
   "id": "eba52126",
   "metadata": {},
   "outputs": [
    {
     "name": "stdout",
     "output_type": "stream",
     "text": [
      "Haris\n"
     ]
    }
   ],
   "source": [
    "#‎2.To capitalize the first character in a given sentence.‎\n",
    "a = 'haris'\n",
    "print(a.capitalize())"
   ]
  },
  {
   "cell_type": "code",
   "execution_count": 40,
   "id": "ab313490",
   "metadata": {},
   "outputs": [
    {
     "name": "stdout",
     "output_type": "stream",
     "text": [
      "['geek', 'for', 'geeks']\n"
     ]
    }
   ],
   "source": [
    "#‎3.Program to convert String to a List.‎\n",
    "a = 'geek for geeks'\n",
    "b = list(a.split())\n",
    "print(b)"
   ]
  },
  {
   "cell_type": "code",
   "execution_count": 69,
   "id": "f83f1463",
   "metadata": {},
   "outputs": [
    {
     "data": {
      "text/plain": [
       "' efgkors'"
      ]
     },
     "execution_count": 69,
     "metadata": {},
     "output_type": "execute_result"
    }
   ],
   "source": [
    "#‎4.To sort alphabetically the words in a given sentence.‎\n",
    "s = \"geek for geeks\"\n",
    "\"\".join(sorted(set(s)))"
   ]
  },
  {
   "cell_type": "code",
   "execution_count": 5,
   "id": "29f0f17e",
   "metadata": {},
   "outputs": [],
   "source": [
    "#‎5. To demonstrate any 10 function(method) of string class.‎\n",
    "\n",
    "len() #String length\n",
    "in  #check String\n",
    "vname[0] #to indexing\n",
    "vname [2:5] #slicing\n",
    "upper() lower() # to modify\n",
    "strip() #Remove whitespace\n",
    "replace() #to replace\n",
    "split() #split\n",
    "join()\n",
    "sort()"
   ]
  },
  {
   "cell_type": "code",
   "execution_count": 70,
   "id": "821df074",
   "metadata": {},
   "outputs": [
    {
     "name": "stdout",
     "output_type": "stream",
     "text": [
      "muzaffar nagar\n",
      "zaf\n",
      "muzaf\n",
      "zaffar nagar\n"
     ]
    }
   ],
   "source": [
    "#‎6. To demonstrate string slice\n",
    "a = 'muzaffar nagar'\n",
    "b = a[2:5]\n",
    "c = a[:5]\n",
    "d = a[2:]\n",
    "\n",
    "print(a)\n",
    "print(b)\n",
    "print(c)\n",
    "print(d)"
   ]
  },
  {
   "cell_type": "code",
   "execution_count": 71,
   "id": "ab6ce364",
   "metadata": {},
   "outputs": [
    {
     "name": "stdout",
     "output_type": "stream",
     "text": [
      "True\n"
     ]
    }
   ],
   "source": [
    "#‎7. To check substring is Present in a Given String\n",
    "\n",
    "ixt = 'The best things in life two things'\n",
    "\n",
    "print('best' in ixt)"
   ]
  },
  {
   "cell_type": "code",
   "execution_count": 1,
   "id": "26317b99",
   "metadata": {},
   "outputs": [
    {
     "name": "stdout",
     "output_type": "stream",
     "text": [
      "9\n"
     ]
    }
   ],
   "source": [
    "#‎8.Count the total number of digits in a number using for loop‎\n",
    "num = '123456678'\n",
    "print(len(str(num)))"
   ]
  },
  {
   "cell_type": "code",
   "execution_count": null,
   "id": "374491a5",
   "metadata": {},
   "outputs": [],
   "source": [
    "string='ljkhg2334ftdresaw234567890-@#$%^356^&&*'\n",
    "num = []\n",
    "alpha = []\n",
    "chra = []\n",
    "\n",
    "for i in string:\n",
    "    if i.isnumeric():\n",
    "        num.append(i)\n",
    "    elif i.isalpha():\n",
    "        alpha.append(i)\n",
    "    else:\n",
    "        chra.append(i)\n",
    "    \n",
    "        \n",
    "print(\"\".join(num))\n",
    "print(\"\".join(alpha))\n",
    "print(\"\".join(chra))"
   ]
  }
 ],
 "metadata": {
  "kernelspec": {
   "display_name": "Python 3 (ipykernel)",
   "language": "python",
   "name": "python3"
  },
  "language_info": {
   "codemirror_mode": {
    "name": "ipython",
    "version": 3
   },
   "file_extension": ".py",
   "mimetype": "text/x-python",
   "name": "python",
   "nbconvert_exporter": "python",
   "pygments_lexer": "ipython3",
   "version": "3.11.0"
  }
 },
 "nbformat": 4,
 "nbformat_minor": 5
}
